{
 "cells": [
  {
   "cell_type": "markdown",
   "id": "1b79e215",
   "metadata": {},
   "source": [
    "# Sonata Lightning Tools: Query Similarity Search\n",
    "\n",
    "### Takes the processed similarity data and enables the search "
   ]
  },
  {
   "cell_type": "code",
   "execution_count": 1,
   "id": "eed5106c",
   "metadata": {},
   "outputs": [],
   "source": [
    "import pandas as pd\n",
    "import json\n",
    "import numpy as np\n",
    "import matplotlib.pyplot as plt\n",
    "from pathlib import Path\n",
    "import os\n",
    "%run lightning_helper.ipynb"
   ]
  },
  {
   "cell_type": "markdown",
   "id": "ff55a243",
   "metadata": {},
   "source": [
    "## Document metadata with Queries"
   ]
  },
  {
   "cell_type": "code",
   "execution_count": 2,
   "id": "bb71e7b7",
   "metadata": {},
   "outputs": [
    {
     "data": {
      "text/html": [
       "<div>\n",
       "<style scoped>\n",
       "    .dataframe tbody tr th:only-of-type {\n",
       "        vertical-align: middle;\n",
       "    }\n",
       "\n",
       "    .dataframe tbody tr th {\n",
       "        vertical-align: top;\n",
       "    }\n",
       "\n",
       "    .dataframe thead th {\n",
       "        text-align: right;\n",
       "    }\n",
       "</style>\n",
       "<table border=\"1\" class=\"dataframe\">\n",
       "  <thead>\n",
       "    <tr style=\"text-align: right;\">\n",
       "      <th></th>\n",
       "      <th>DocId</th>\n",
       "      <th>DpId</th>\n",
       "      <th>DpName</th>\n",
       "      <th>DsId</th>\n",
       "      <th>QueryPlan</th>\n",
       "      <th>TableCount</th>\n",
       "      <th>ColumnCount</th>\n",
       "      <th>Complexity</th>\n",
       "      <th>TableList</th>\n",
       "      <th>ColumnList</th>\n",
       "      <th>Query_Statement</th>\n",
       "    </tr>\n",
       "  </thead>\n",
       "  <tbody>\n",
       "    <tr>\n",
       "      <th>0</th>\n",
       "      <td>6814</td>\n",
       "      <td>DP5</td>\n",
       "      <td>Metrics</td>\n",
       "      <td>6816</td>\n",
       "      <td>{\"queryplan\":{\"@custom\":\"false\",\"@editable\":\"t...</td>\n",
       "      <td>2</td>\n",
       "      <td>13</td>\n",
       "      <td>False</td>\n",
       "      <td>Properties;Properties Level1</td>\n",
       "      <td>int(Properties.si_id);Properties.si_name;Prope...</td>\n",
       "      <td>{\"@index\": \"0\", \"$\": \"SELECT int(Properties.si...</td>\n",
       "    </tr>\n",
       "    <tr>\n",
       "      <th>1</th>\n",
       "      <td>6818</td>\n",
       "      <td>DP3</td>\n",
       "      <td>instance</td>\n",
       "      <td>6816</td>\n",
       "      <td>{\"queryplan\":{\"@custom\":\"false\",\"@editable\":\"t...</td>\n",
       "      <td>2</td>\n",
       "      <td>9</td>\n",
       "      <td>False</td>\n",
       "      <td>Properties;Properties Level1</td>\n",
       "      <td>int(Properties.si_id);Properties.si_name;int(P...</td>\n",
       "      <td>{\"@index\": \"0\", \"$\": \"SELECT int(Properties.si...</td>\n",
       "    </tr>\n",
       "    <tr>\n",
       "      <th>2</th>\n",
       "      <td>6820</td>\n",
       "      <td>DP3</td>\n",
       "      <td>instance</td>\n",
       "      <td>6816</td>\n",
       "      <td>{\"queryplan\":{\"@custom\":\"false\",\"@editable\":\"t...</td>\n",
       "      <td>2</td>\n",
       "      <td>19</td>\n",
       "      <td>False</td>\n",
       "      <td>Properties;Properties Level1</td>\n",
       "      <td>int(Properties.si_id);int(Properties.si_parent...</td>\n",
       "      <td>{\"@index\": \"0\", \"$\": \"SELECT int(Properties.si...</td>\n",
       "    </tr>\n",
       "    <tr>\n",
       "      <th>3</th>\n",
       "      <td>6695</td>\n",
       "      <td>DP0</td>\n",
       "      <td>Query 1</td>\n",
       "      <td>5646</td>\n",
       "      <td>{\"queryplan\":{\"@custom\":\"false\",\"@editable\":\"t...</td>\n",
       "      <td>1</td>\n",
       "      <td>4</td>\n",
       "      <td>False</td>\n",
       "      <td>rio;</td>\n",
       "      <td>Country;Sport;Name;Medal;</td>\n",
       "      <td>{\"@index\": \"0\", \"$\": \"SELECT rio.Country, rio....</td>\n",
       "    </tr>\n",
       "    <tr>\n",
       "      <th>4</th>\n",
       "      <td>5903</td>\n",
       "      <td>DP0</td>\n",
       "      <td>Query 1</td>\n",
       "      <td>5636</td>\n",
       "      <td>{\"queryplan\":{\"@custom\":\"false\",\"@editable\":\"t...</td>\n",
       "      <td>3</td>\n",
       "      <td>8</td>\n",
       "      <td>True</td>\n",
       "      <td>Article_Color_Lookup;Article_Lookup_Criteria;S...</td>\n",
       "      <td>Family_name;Category;Article_id;Article_label;...</td>\n",
       "      <td>{\"queryplan\": {\"@custom\": \"false\", \"@editable\"...</td>\n",
       "    </tr>\n",
       "  </tbody>\n",
       "</table>\n",
       "</div>"
      ],
      "text/plain": [
       "   DocId DpId    DpName  DsId  \\\n",
       "0   6814  DP5   Metrics  6816   \n",
       "1   6818  DP3  instance  6816   \n",
       "2   6820  DP3  instance  6816   \n",
       "3   6695  DP0   Query 1  5646   \n",
       "4   5903  DP0   Query 1  5636   \n",
       "\n",
       "                                           QueryPlan  TableCount  ColumnCount  \\\n",
       "0  {\"queryplan\":{\"@custom\":\"false\",\"@editable\":\"t...           2           13   \n",
       "1  {\"queryplan\":{\"@custom\":\"false\",\"@editable\":\"t...           2            9   \n",
       "2  {\"queryplan\":{\"@custom\":\"false\",\"@editable\":\"t...           2           19   \n",
       "3  {\"queryplan\":{\"@custom\":\"false\",\"@editable\":\"t...           1            4   \n",
       "4  {\"queryplan\":{\"@custom\":\"false\",\"@editable\":\"t...           3            8   \n",
       "\n",
       "   Complexity                                          TableList  \\\n",
       "0       False                       Properties;Properties Level1   \n",
       "1       False                       Properties;Properties Level1   \n",
       "2       False                       Properties;Properties Level1   \n",
       "3       False                                               rio;   \n",
       "4        True  Article_Color_Lookup;Article_Lookup_Criteria;S...   \n",
       "\n",
       "                                          ColumnList  \\\n",
       "0  int(Properties.si_id);Properties.si_name;Prope...   \n",
       "1  int(Properties.si_id);Properties.si_name;int(P...   \n",
       "2  int(Properties.si_id);int(Properties.si_parent...   \n",
       "3                          Country;Sport;Name;Medal;   \n",
       "4  Family_name;Category;Article_id;Article_label;...   \n",
       "\n",
       "                                     Query_Statement  \n",
       "0  {\"@index\": \"0\", \"$\": \"SELECT int(Properties.si...  \n",
       "1  {\"@index\": \"0\", \"$\": \"SELECT int(Properties.si...  \n",
       "2  {\"@index\": \"0\", \"$\": \"SELECT int(Properties.si...  \n",
       "3  {\"@index\": \"0\", \"$\": \"SELECT rio.Country, rio....  \n",
       "4  {\"queryplan\": {\"@custom\": \"false\", \"@editable\"...  "
      ]
     },
     "execution_count": 2,
     "metadata": {},
     "output_type": "execute_result"
    }
   ],
   "source": [
    "# Load the data from Excel file\n",
    "excel_file_path = get_full_file_path('output', 'query_data_lookup.csv')\n",
    "# excel_file_path = 'test_data.csv'\n",
    "df = pd.read_csv(excel_file_path)\n",
    "df = df.loc[:, ~df.columns.str.contains('^Unnamed')]\n",
    "df.head()"
   ]
  },
  {
   "cell_type": "markdown",
   "id": "84d7082f",
   "metadata": {},
   "source": [
    "## Read all the query statements & clense queries"
   ]
  },
  {
   "cell_type": "code",
   "execution_count": 3,
   "id": "fe62ed35",
   "metadata": {},
   "outputs": [],
   "source": [
    "sim_file_path = get_full_file_path('output', 'query_data_similarity.csv')\n",
    "\n",
    "# excel_file_path = 'test_data.csv'\n",
    "df1 = pd.read_csv(sim_file_path)\n",
    "df1.describe()\n",
    "cosine_sim = df1.to_numpy()"
   ]
  },
  {
   "cell_type": "markdown",
   "id": "ee2f4d8c",
   "metadata": {},
   "source": [
    "## Similarity heatmap for all the reports based on Query statements"
   ]
  },
  {
   "cell_type": "code",
   "execution_count": 4,
   "id": "2ab7571a",
   "metadata": {},
   "outputs": [
    {
     "name": "stdout",
     "output_type": "stream",
     "text": [
      "[[0.88492108 1.         0.92041095 0.07265861 0.02211249 0.82639387\n",
      "  0.80327115 0.90166963 0.02211249 0.0857761 ]\n",
      " [0.87751303 0.92041095 1.         0.03843795 0.01169798 0.79629199\n",
      "  0.83856308 0.80494154 0.01169798 0.04537738]\n",
      " [0.04793059 0.07265861 0.03843795 1.         0.030403   0.12309149\n",
      "  0.05264484 0.0805823  0.030403   0.09965563]\n",
      " [0.01923549 0.02211249 0.01169798 0.030403   1.         0.04116586\n",
      "  0.01344471 0.03065492 1.         0.17945919]\n",
      " [0.77877994 0.82639387 0.79629199 0.12309149 0.04116586 1.\n",
      "  0.76465553 0.84559432 0.04116586 0.0934161 ]\n",
      " [0.73680309 0.80327115 0.83856308 0.05264484 0.01344471 0.76465553\n",
      "  1.         0.69042487 0.01344471 0.0423744 ]\n",
      " [0.89220451 0.90166963 0.80494154 0.0805823  0.03065492 0.84559432\n",
      "  0.69042487 1.         0.03065492 0.10107594]\n",
      " [0.01923549 0.02211249 0.01169798 0.030403   1.         0.04116586\n",
      "  0.01344471 0.03065492 1.         0.17945919]\n",
      " [0.06062549 0.0857761  0.04537738 0.09965563 0.17945919 0.0934161\n",
      "  0.0423744  0.10107594 0.17945919 1.        ]]\n"
     ]
    }
   ],
   "source": [
    "print(cosine_sim)"
   ]
  },
  {
   "cell_type": "code",
   "execution_count": 5,
   "id": "67526b0d",
   "metadata": {},
   "outputs": [
    {
     "data": {
      "text/plain": [
       "range(0, 9)"
      ]
     },
     "execution_count": 5,
     "metadata": {},
     "output_type": "execute_result"
    }
   ],
   "source": [
    "range(len(cosine_sim))"
   ]
  },
  {
   "cell_type": "code",
   "execution_count": 6,
   "id": "00fb26ed",
   "metadata": {},
   "outputs": [
    {
     "data": {
      "image/png": "[encoded data removed]",
      "text/plain": [
       "<Figure size 800x600 with 2 Axes>"
      ]
     },
     "metadata": {},
     "output_type": "display_data"
    }
   ],
   "source": [
    "# Plotting the heatmap\n",
    "plt.figure(figsize=(8, 6))\n",
    "plt.imshow(cosine_sim, cmap='viridis', interpolation='nearest')\n",
    "plt.colorbar(label='QueryPlan  Similarity')\n",
    "plt.title('Query Statements Similarity Heatmap')\n",
    "plt.xlabel('Reports')\n",
    "plt.ylabel('Reports')\n",
    "plt.xticks(range(len(cosine_sim)+1), df['DocId'])\n",
    "plt.yticks(range(len(cosine_sim)+1),  df['DocId'])\n",
    "plt.show()"
   ]
  },
  {
   "cell_type": "code",
   "execution_count": 7,
   "id": "e5442164",
   "metadata": {},
   "outputs": [
    {
     "data": {
      "text/plain": [
       "DocId                                                           5903\n",
       "DpId                                                             DP0\n",
       "DpName                                                       Query 1\n",
       "DsId                                                            5636\n",
       "QueryPlan          {\"queryplan\":{\"@custom\":\"false\",\"@editable\":\"t...\n",
       "TableCount                                                         3\n",
       "ColumnCount                                                        8\n",
       "Complexity                                                      True\n",
       "TableList          Article_Color_Lookup;Article_Lookup_Criteria;S...\n",
       "ColumnList         Family_name;Category;Article_id;Article_label;...\n",
       "Query_Statement    {\"queryplan\": {\"@custom\": \"false\", \"@editable\"...\n",
       "Name: 4, dtype: object"
      ]
     },
     "execution_count": 7,
     "metadata": {},
     "output_type": "execute_result"
    }
   ],
   "source": [
    "# Index of the specific record you want to match\n",
    "row_index_of_report = 4  # Replace this with the desired index\n",
    "\n",
    "# Get matching rows from the DataFrame\n",
    "matching_row = df.loc[row_index_of_report]\n",
    "\n",
    "matching_row"
   ]
  },
  {
   "cell_type": "code",
   "execution_count": 8,
   "id": "ba2972d4",
   "metadata": {},
   "outputs": [
    {
     "name": "stdout",
     "output_type": "stream",
     "text": [
      "Matching indices: [5]\n",
      "Matching rows:\n",
      "   DocId DpId DpName  DsId                                          QueryPlan  \\\n",
      "5   6817  DP0   User  6816  {\"queryplan\":{\"@custom\":\"false\",\"@editable\":\"t...   \n",
      "\n",
      "   TableCount  ColumnCount  Complexity    TableList      ColumnList  \\\n",
      "5           1            2       False  Properties;  si_id;si_name;   \n",
      "\n",
      "                                     Query_Statement  \n",
      "5  {\"@index\": \"0\", \"$\": \"SELECT int(Properties.si...  \n"
     ]
    }
   ],
   "source": [
    "# Threshold for similarity\n",
    "threshold = 0.9\n",
    "\n",
    "# Get the row of the specific record from the similarity matrix\n",
    "specific_record_similarity = cosine_sim[row_index_of_report]\n",
    "\n",
    "# Find rows with similarity above the threshold\n",
    "matching_indices = np.where(specific_record_similarity > threshold)[0]\n",
    "\n",
    "# Print matching indices\n",
    "print(\"Matching indices:\", matching_indices)\n",
    "\n",
    "# Get matching rows from the DataFrame\n",
    "matching_rows = df.loc[matching_indices]\n",
    "\n",
    "# Print matching rows\n",
    "print(\"Matching rows:\")\n",
    "print(matching_rows)"
   ]
  },
  {
   "cell_type": "code",
   "execution_count": null,
   "id": "452678c7",
   "metadata": {},
   "outputs": [],
   "source": []
  }
 ],
 "metadata": {
  "kernelspec": {
   "display_name": "Python 3 (ipykernel)",
   "language": "python",
   "name": "python3"
  },
  "language_info": {
   "codemirror_mode": {
    "name": "ipython",
    "version": 3
   },
   "file_extension": ".py",
   "mimetype": "text/x-python",
   "name": "python",
   "nbconvert_exporter": "python",
   "pygments_lexer": "ipython3",
   "version": "3.11.4"
  }
 },
 "nbformat": 4,
 "nbformat_minor": 5
}
