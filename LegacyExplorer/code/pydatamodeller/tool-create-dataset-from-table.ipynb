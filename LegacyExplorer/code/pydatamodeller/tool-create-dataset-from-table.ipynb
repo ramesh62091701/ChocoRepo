{
 "cells": [
  {
   "cell_type": "markdown",
   "id": "83e6a970",
   "metadata": {},
   "source": [
    "# Tool: Create Power BI Dataset from Table Definitions"
   ]
  },
  {
   "cell_type": "code",
   "execution_count": 1,
   "id": "63f42eaf",
   "metadata": {},
   "outputs": [],
   "source": [
    "import adal\n",
    "from pypowerbi.client import PowerBIClient\n",
    "from pypowerbi.dataset import Column, Table, Dataset"
   ]
  },
  {
   "cell_type": "code",
   "execution_count": 2,
   "id": "f924ae8e",
   "metadata": {},
   "outputs": [],
   "source": [
    "# Get the token here\n",
    "token = {'accessToken': 'eyJ0eXAiOiJKV1QiLCJhbGciOiJSUzI1NiIsIng1dCI6Ii1LSTNROW5OUjdiUm9meG1lWm9YcWJIWkdldyIsImtpZCI6Ii1LSTNROW5OUjdiUm9meG1lWm9YcWJIWkdldyJ9.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.NR5xJ7CKVB9UFRB8hESuewBZPO7LmnfPB-DGA3vG_R6oGaY0eXZEoGjhHhsnA8beRrcFPPrmcX_wHYGl9nHwKkvg89yb57-_6w0WUgL4PZfy9BL19H6imepqUQQUaN29utdVoQvPxHQveByg-p78jOppW4UZr6w3qfCQhPSmB4kFMzsfUBnsG_rqMfAFVWiwvuubkuQmcoRFj7BSYsXCTgGc5oyO2apv5aPzJ0dbzkcDJqYpRNyVA1PW5B-5FywuhkDnDAyu-Jb2NYW9lSbqA2WHKRPXQKZw990dDI33h4DVcSvki5JOH_zEvuijRJrhvMxI_6XqOXzHitfOT0MeHw'}"
   ]
  },
  {
   "cell_type": "code",
   "execution_count": 3,
   "id": "04f5b30c",
   "metadata": {},
   "outputs": [],
   "source": [
    "api_url = 'https://api.powerbi.com'\n",
    "\n",
    "# create your powerbi api client\n",
    "client = PowerBIClient(api_url, token)"
   ]
  },
  {
   "cell_type": "code",
   "execution_count": 4,
   "id": "61d20cf8",
   "metadata": {},
   "outputs": [],
   "source": [
    "\n",
    "# create your columns\n",
    "columns = []\n",
    "columns.append(Column(name='id', data_type='Int64'))\n",
    "columns.append(Column(name='name', data_type='string'))\n",
    "columns.append(Column(name='is_interesting', data_type='boolean'))\n",
    "columns.append(Column(name='cost_usd', data_type='double'))\n",
    "columns.append(Column(name='purchase_date', data_type='datetime'))"
   ]
  },
  {
   "cell_type": "code",
   "execution_count": 5,
   "id": "940c2b23",
   "metadata": {},
   "outputs": [],
   "source": [
    "# create your tables\n",
    "tables = []\n",
    "tables.append(Table(name='Products', columns=columns))"
   ]
  },
  {
   "cell_type": "code",
   "execution_count": 6,
   "id": "5f34f19d",
   "metadata": {},
   "outputs": [],
   "source": [
    "# create your dataset\n",
    "dataset = Dataset(name='Sample Dataset frm Table 2', tables=tables)"
   ]
  },
  {
   "cell_type": "code",
   "execution_count": 7,
   "id": "a084a604",
   "metadata": {},
   "outputs": [
    {
     "data": {
      "text/plain": [
       "<Dataset {'name': 'Sample Dataset frm Table 2', 'id': '7d763fcf-5de8-4462-8317-1a9ebe5f7d55', 'tables': None, 'add_rows_api_enabled': None, 'configured_by': None, 'is_refreshable': None, 'is_effective_identity_required': None, 'is_effective_identity_roles_required': None, 'is_on_prem_gateway_required': None}>"
      ]
     },
     "execution_count": 7,
     "metadata": {},
     "output_type": "execute_result"
    }
   ],
   "source": [
    "# post your dataset!\n",
    "client.datasets.post_dataset(dataset)"
   ]
  },
  {
   "cell_type": "markdown",
   "id": "d1d279b8",
   "metadata": {},
   "source": [
    "### Data set is created on the powerbi portal"
   ]
  }
 ],
 "metadata": {
  "kernelspec": {
   "display_name": "Python 3 (ipykernel)",
   "language": "python",
   "name": "python3"
  },
  "language_info": {
   "codemirror_mode": {
    "name": "ipython",
    "version": 3
   },
   "file_extension": ".py",
   "mimetype": "text/x-python",
   "name": "python",
   "nbconvert_exporter": "python",
   "pygments_lexer": "ipython3",
   "version": "3.11.4"
  }
 },
 "nbformat": 4,
 "nbformat_minor": 5
}
