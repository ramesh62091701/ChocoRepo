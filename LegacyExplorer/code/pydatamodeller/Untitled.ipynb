{
 "cells": [
  {
   "cell_type": "code",
   "execution_count": 1,
   "id": "2f24a84c",
   "metadata": {},
   "outputs": [],
   "source": [
    "import os\n",
    "import pandas as pd\n",
    "from pypowerbi.client import PowerBIClient\n",
    "from pypowerbi.dataset import Column, Table, Dataset"
   ]
  },
  {
   "cell_type": "code",
   "execution_count": 3,
   "id": "e8487b63",
   "metadata": {},
   "outputs": [],
   "source": [
    "# Specify the directory containing your CSV files\n",
    "csv_directory = 'D:/rnd/output/20230916221802'\n",
    "\n",
    "# Get a list of all CSV files in the directory\n",
    "csv_files = [f for f in os.listdir(csv_directory) if f.endswith('.csv')]\n",
    "\n",
    "# Initialize the list to store tables\n",
    "tables = []"
   ]
  },
  {
   "cell_type": "code",
   "execution_count": 4,
   "id": "9b773df7",
   "metadata": {},
   "outputs": [],
   "source": [
    "# Loop through each CSV file\n",
    "for csv_file in csv_files:\n",
    "    csv_path = os.path.join(csv_directory, csv_file)\n",
    "    \n",
    "    # Read the CSV file into a DataFrame\n",
    "    df = pd.read_csv(csv_path)\n",
    "    \n",
    "    # Extract column names and data types\n",
    "    columns = []\n",
    "    for column_name, dtype in zip(df.columns, df.dtypes):\n",
    "        if dtype == 'int64':\n",
    "            data_type = 'Int64'\n",
    "        elif dtype == 'float64':\n",
    "            data_type = 'double'\n",
    "        elif dtype == 'bool':\n",
    "            data_type = 'boolean'\n",
    "        elif dtype == 'datetime64[ns]':\n",
    "            data_type = 'datetime'\n",
    "        else:\n",
    "            data_type = 'string'\n",
    "        \n",
    "        columns.append(Column(name=column_name, data_type=data_type))\n",
    "    \n",
    "    # Create a table for each CSV\n",
    "    table = Table(name=os.path.splitext(csv_file)[0], columns=columns)\n",
    "    tables.append(table)"
   ]
  },
  {
   "cell_type": "code",
   "execution_count": 5,
   "id": "d982d341",
   "metadata": {},
   "outputs": [
    {
     "data": {
      "text/plain": [
       "[<Table {'name': 'NetAssembly-20230916221802', 'columns': [<Column {'name': 'Id', 'data_type': 'string', 'formatstring': None}>, <Column {'name': 'Name', 'data_type': 'string', 'formatstring': None}>, <Column {'name': 'FileName', 'data_type': 'string', 'formatstring': None}>, <Column {'name': 'Type', 'data_type': 'double', 'formatstring': None}>, <Column {'name': 'Location', 'data_type': 'string', 'formatstring': None}>], 'measures': None, 'rows': None}>,\n",
       " <Table {'name': 'NetBaseClass-20230916221802', 'columns': [<Column {'name': 'Id', 'data_type': 'string', 'formatstring': None}>, <Column {'name': 'TypeId', 'data_type': 'string', 'formatstring': None}>, <Column {'name': 'Name', 'data_type': 'string', 'formatstring': None}>, <Column {'name': 'FullName', 'data_type': 'string', 'formatstring': None}>, <Column {'name': 'TypeOfType', 'data_type': 'string', 'formatstring': None}>, <Column {'name': 'Namespace', 'data_type': 'string', 'formatstring': None}>], 'measures': None, 'rows': None}>,\n",
       " <Table {'name': 'NetField-20230916221802', 'columns': [<Column {'name': 'Id', 'data_type': 'string', 'formatstring': None}>, <Column {'name': 'TypeId', 'data_type': 'string', 'formatstring': None}>, <Column {'name': 'Name', 'data_type': 'string', 'formatstring': None}>, <Column {'name': 'FieldType', 'data_type': 'string', 'formatstring': None}>], 'measures': None, 'rows': None}>,\n",
       " <Table {'name': 'NetMethod-20230916221802', 'columns': [<Column {'name': 'Id', 'data_type': 'string', 'formatstring': None}>, <Column {'name': 'TypeId', 'data_type': 'string', 'formatstring': None}>, <Column {'name': 'Name', 'data_type': 'string', 'formatstring': None}>, <Column {'name': 'LineCount', 'data_type': 'double', 'formatstring': None}>], 'measures': None, 'rows': None}>,\n",
       " <Table {'name': 'NetProperty-20230916221802', 'columns': [<Column {'name': 'Id', 'data_type': 'string', 'formatstring': None}>, <Column {'name': 'TypeId', 'data_type': 'string', 'formatstring': None}>, <Column {'name': 'Name', 'data_type': 'string', 'formatstring': None}>, <Column {'name': 'PropertyType', 'data_type': 'string', 'formatstring': None}>], 'measures': None, 'rows': None}>,\n",
       " <Table {'name': 'NetReference-20230916221802', 'columns': [<Column {'name': 'Id', 'data_type': 'string', 'formatstring': None}>, <Column {'name': 'AssemblyId', 'data_type': 'string', 'formatstring': None}>, <Column {'name': 'Name', 'data_type': 'string', 'formatstring': None}>, <Column {'name': 'Location', 'data_type': 'double', 'formatstring': None}>], 'measures': None, 'rows': None}>,\n",
       " <Table {'name': 'NetType-20230916221802', 'columns': [<Column {'name': 'Id', 'data_type': 'string', 'formatstring': None}>, <Column {'name': 'AssemblyId', 'data_type': 'string', 'formatstring': None}>, <Column {'name': 'Name', 'data_type': 'string', 'formatstring': None}>, <Column {'name': 'FullName', 'data_type': 'string', 'formatstring': None}>, <Column {'name': 'TypeOfType', 'data_type': 'string', 'formatstring': None}>, <Column {'name': 'Namespace', 'data_type': 'string', 'formatstring': None}>, <Column {'name': 'Category', 'data_type': 'double', 'formatstring': None}>], 'measures': None, 'rows': None}>]"
      ]
     },
     "execution_count": 5,
     "metadata": {},
     "output_type": "execute_result"
    }
   ],
   "source": [
    "tables"
   ]
  },
  {
   "cell_type": "code",
   "execution_count": 6,
   "id": "53613bc2",
   "metadata": {},
   "outputs": [],
   "source": [
    "# Create your dataset\n",
    "dataset = Dataset(name='LegacyExplorerDataSet20230916221802', tables=tables)"
   ]
  },
  {
   "cell_type": "code",
   "execution_count": 9,
   "id": "89e7cd9f",
   "metadata": {},
   "outputs": [
    {
     "data": {
      "text/plain": [
       "<Dataset {'name': 'LegacyExplorerDataSet20230916221802', 'id': None, 'tables': [<Table {'name': 'NetAssembly-20230916221802', 'columns': [<Column {'name': 'Id', 'data_type': 'string', 'formatstring': None}>, <Column {'name': 'Name', 'data_type': 'string', 'formatstring': None}>, <Column {'name': 'FileName', 'data_type': 'string', 'formatstring': None}>, <Column {'name': 'Type', 'data_type': 'double', 'formatstring': None}>, <Column {'name': 'Location', 'data_type': 'string', 'formatstring': None}>], 'measures': None, 'rows': None}>, <Table {'name': 'NetBaseClass-20230916221802', 'columns': [<Column {'name': 'Id', 'data_type': 'string', 'formatstring': None}>, <Column {'name': 'TypeId', 'data_type': 'string', 'formatstring': None}>, <Column {'name': 'Name', 'data_type': 'string', 'formatstring': None}>, <Column {'name': 'FullName', 'data_type': 'string', 'formatstring': None}>, <Column {'name': 'TypeOfType', 'data_type': 'string', 'formatstring': None}>, <Column {'name': 'Namespace', 'data_type': 'string', 'formatstring': None}>], 'measures': None, 'rows': None}>, <Table {'name': 'NetField-20230916221802', 'columns': [<Column {'name': 'Id', 'data_type': 'string', 'formatstring': None}>, <Column {'name': 'TypeId', 'data_type': 'string', 'formatstring': None}>, <Column {'name': 'Name', 'data_type': 'string', 'formatstring': None}>, <Column {'name': 'FieldType', 'data_type': 'string', 'formatstring': None}>], 'measures': None, 'rows': None}>, <Table {'name': 'NetMethod-20230916221802', 'columns': [<Column {'name': 'Id', 'data_type': 'string', 'formatstring': None}>, <Column {'name': 'TypeId', 'data_type': 'string', 'formatstring': None}>, <Column {'name': 'Name', 'data_type': 'string', 'formatstring': None}>, <Column {'name': 'LineCount', 'data_type': 'double', 'formatstring': None}>], 'measures': None, 'rows': None}>, <Table {'name': 'NetProperty-20230916221802', 'columns': [<Column {'name': 'Id', 'data_type': 'string', 'formatstring': None}>, <Column {'name': 'TypeId', 'data_type': 'string', 'formatstring': None}>, <Column {'name': 'Name', 'data_type': 'string', 'formatstring': None}>, <Column {'name': 'PropertyType', 'data_type': 'string', 'formatstring': None}>], 'measures': None, 'rows': None}>, <Table {'name': 'NetReference-20230916221802', 'columns': [<Column {'name': 'Id', 'data_type': 'string', 'formatstring': None}>, <Column {'name': 'AssemblyId', 'data_type': 'string', 'formatstring': None}>, <Column {'name': 'Name', 'data_type': 'string', 'formatstring': None}>, <Column {'name': 'Location', 'data_type': 'double', 'formatstring': None}>], 'measures': None, 'rows': None}>, <Table {'name': 'NetType-20230916221802', 'columns': [<Column {'name': 'Id', 'data_type': 'string', 'formatstring': None}>, <Column {'name': 'AssemblyId', 'data_type': 'string', 'formatstring': None}>, <Column {'name': 'Name', 'data_type': 'string', 'formatstring': None}>, <Column {'name': 'FullName', 'data_type': 'string', 'formatstring': None}>, <Column {'name': 'TypeOfType', 'data_type': 'string', 'formatstring': None}>, <Column {'name': 'Namespace', 'data_type': 'string', 'formatstring': None}>, <Column {'name': 'Category', 'data_type': 'double', 'formatstring': None}>], 'measures': None, 'rows': None}>], 'add_rows_api_enabled': None, 'configured_by': None, 'is_refreshable': None, 'is_effective_identity_required': None, 'is_effective_identity_roles_required': None, 'is_on_prem_gateway_required': None}>"
      ]
     },
     "execution_count": 9,
     "metadata": {},
     "output_type": "execute_result"
    }
   ],
   "source": [
    "dataset"
   ]
  },
  {
   "cell_type": "code",
   "execution_count": 11,
   "id": "3c9c2d66",
   "metadata": {},
   "outputs": [],
   "source": [
    "# Get your token here\n",
    "token = {'accessToken': 'eyJ0eXAiOiJKV1QiLCJhbGciOiJSUzI1NiIsIng1dCI6Ii1LSTNROW5OUjdiUm9meG1lWm9YcWJIWkdldyIsImtpZCI6Ii1LSTNROW5OUjdiUm9meG1lWm9YcWJIWkdldyJ9.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.Ioat2I-3T8qPu9dj4X1UwIx35bg6UZ9i1OIs-xdLmR1UGwS-Sz7eIBerZIBb44ABUMmnUQDnbD0fYPp3yyX4oB3PVgDOJACtuFQpKGYtcAojKX_ZO1lDF5_nCS2SgG142F66DYRFRWE8fvPUQO_65SU7nF_KHdCQb6UwUP0DbOW-Jfuin86rAK85zT0qyRnR5rxxfEqXeO5pZMECHoiGAirFckz4-bQMTqGcb0T9kLzLsKbnVSPdV9e23v4J61z-rPqWsHxVbYR0Qk9wSULxJWaUQKpsUpkh_gQAz4KbxcJmF8sTHAK1fqcL0oGciajW0b-4kNlR3yRR_nIJgABd1g'}\n",
    "api_url = 'https://api.powerbi.com'\n",
    "\n",
    "# Create your Power BI API client\n",
    "client = PowerBIClient(api_url, token)"
   ]
  },
  {
   "cell_type": "code",
   "execution_count": 12,
   "id": "882c19b7",
   "metadata": {},
   "outputs": [
    {
     "data": {
      "text/plain": [
       "<Dataset {'name': 'LegacyExplorerDataSet20230916221802', 'id': 'af58b8bd-e971-4206-9c80-21e4b2696425', 'tables': None, 'add_rows_api_enabled': None, 'configured_by': None, 'is_refreshable': None, 'is_effective_identity_required': None, 'is_effective_identity_roles_required': None, 'is_on_prem_gateway_required': None}>"
      ]
     },
     "execution_count": 12,
     "metadata": {},
     "output_type": "execute_result"
    }
   ],
   "source": [
    "# Post your dataset\n",
    "client.datasets.post_dataset(dataset)"
   ]
  }
 ],
 "metadata": {
  "kernelspec": {
   "display_name": "Python 3 (ipykernel)",
   "language": "python",
   "name": "python3"
  },
  "language_info": {
   "codemirror_mode": {
    "name": "ipython",
    "version": 3
   },
   "file_extension": ".py",
   "mimetype": "text/x-python",
   "name": "python",
   "nbconvert_exporter": "python",
   "pygments_lexer": "ipython3",
   "version": "3.11.4"
  }
 },
 "nbformat": 4,
 "nbformat_minor": 5
}
