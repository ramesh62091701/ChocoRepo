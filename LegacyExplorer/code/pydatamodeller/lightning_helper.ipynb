{
 "cells": [
  {
   "cell_type": "code",
   "execution_count": 1,
   "id": "6727ccbf",
   "metadata": {},
   "outputs": [],
   "source": [
    "import os\n",
    "from pathlib import Path\n",
    "import sys"
   ]
  },
  {
   "cell_type": "code",
   "execution_count": 2,
   "id": "8d059039",
   "metadata": {},
   "outputs": [],
   "source": [
    "def get_full_file_path(folder_name, file_name):\n",
    "    current_folder = Path().absolute()\n",
    "    \n",
    "    if folder_name:\n",
    "        folder_path = os.path.join(current_folder, folder_name)\n",
    "        file_path = os.path.join(folder_path, file_name)\n",
    "    else:\n",
    "        file_path = os.path.join(current_folder, file_name)\n",
    "        \n",
    "    return file_path"
   ]
  }
 ],
 "metadata": {
  "kernelspec": {
   "display_name": "Python 3 (ipykernel)",
   "language": "python",
   "name": "python3"
  },
  "language_info": {
   "codemirror_mode": {
    "name": "ipython",
    "version": 3
   },
   "file_extension": ".py",
   "mimetype": "text/x-python",
   "name": "python",
   "nbconvert_exporter": "python",
   "pygments_lexer": "ipython3",
   "version": "3.11.4"
  }
 },
 "nbformat": 4,
 "nbformat_minor": 5
}
