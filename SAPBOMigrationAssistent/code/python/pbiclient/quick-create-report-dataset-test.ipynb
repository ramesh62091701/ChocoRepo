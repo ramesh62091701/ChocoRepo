{
 "cells": [
  {
   "cell_type": "markdown",
   "id": "ce1426e9",
   "metadata": {},
   "source": [
    "# Tool - Quick Create Power BI Reports\n",
    "\n",
    "Enable quick creation to explore the data, report and assists the team in automating report creation"
   ]
  },
  {
   "cell_type": "code",
   "execution_count": 6,
   "id": "e44c1a00-3f29-4db8-8c18-d6a145875e4b",
   "metadata": {},
   "outputs": [],
   "source": [
    "from powerbiclient import QuickVisualize, get_dataset_config, Report, models\n",
    "from powerbiclient.authentication import DeviceCodeLoginAuthentication\n",
    "\n",
    "import pandas as pd"
   ]
  },
  {
   "cell_type": "markdown",
   "id": "784a34f9",
   "metadata": {},
   "source": [
    "### Authenticate to Power BI\n",
    "\n",
    "Use Device authentication to get the token"
   ]
  },
  {
   "cell_type": "code",
   "execution_count": 2,
   "id": "c9b1cd26",
   "metadata": {},
   "outputs": [
    {
     "name": "stdout",
     "output_type": "stream",
     "text": [
      "Performing device flow authentication. Please follow the instructions below.\n",
      "To sign in, use a web browser to open the page https://microsoft.com/devicelogin and enter the code IH6PWUW35 to authenticate.\n",
      "\n",
      "Device flow authentication successfully completed.\n",
      "You are now logged in .\n",
      "\n",
      "The result should be passed only to trusted code in your notebook.\n"
     ]
    }
   ],
   "source": [
    "device_auth = DeviceCodeLoginAuthentication()"
   ]
  },
  {
   "cell_type": "code",
   "execution_count": 3,
   "id": "78171ae9",
   "metadata": {},
   "outputs": [],
   "source": [
    "group_id = 'f4ca0dee-cb43-47fe-9835-96e1f6e1307a'\n",
    "dataset_id = 'aba10a6b-9632-42d0-8286-a8126ce7d0d0'"
   ]
  },
  {
   "cell_type": "code",
   "execution_count": 7,
   "id": "1ee09ff4",
   "metadata": {},
   "outputs": [],
   "source": [
    "# Instantiate report object in CREATE mode\n",
    "report_create = Report(group_id=group_id, auth=device_auth, view_mode=models.EmbedMode.CREATE.value, dataset_id=dataset_id)"
   ]
  },
  {
   "cell_type": "code",
   "execution_count": 19,
   "id": "da598d26",
   "metadata": {},
   "outputs": [
    {
     "data": {
      "application/vnd.jupyter.widget-view+json": {
       "model_id": "fc7167adc50a404d8ae31c5652e946b8",
       "version_major": 2,
       "version_minor": 0
      },
      "text/plain": [
       "Report()"
      ]
     },
     "execution_count": 19,
     "metadata": {},
     "output_type": "execute_result"
    }
   ],
   "source": [
    "report_create"
   ]
  },
  {
   "cell_type": "code",
   "execution_count": 11,
   "id": "e38546c0",
   "metadata": {},
   "outputs": [],
   "source": [
    "def print_object_values(obj, level=0, max_depth=1):\n",
    "    if level >= max_depth:\n",
    "        return\n",
    "\n",
    "    for attribute_name in dir(obj):\n",
    "        if not attribute_name.startswith(\"__\"):\n",
    "            attribute_value = getattr(obj, attribute_name)\n",
    "            \n",
    "            if isinstance(attribute_value, str):\n",
    "                print(\"  \" * level + f\"{attribute_name}: {attribute_value}\")\n",
    "            elif isinstance(attribute_value, object):\n",
    "                print(\"  \" * level + f\"{attribute_name}:\")\n",
    "                print_object_values(attribute_value, level + 1, max_depth)"
   ]
  },
  {
   "cell_type": "markdown",
   "id": "014b1574",
   "metadata": {},
   "source": [
    "You can interact with this report as part of your notebook. To learn more, visit our [documentation](https://github.com/microsoft/powerbi-jupyter/blob/main/DOCUMENTATION.md#PowerBI-report-embedding-widget) or the report embedding [demo](https://github.com/microsoft/powerbi-jupyter/blob/main/demo/Embed%20Power%20BI%20report%20demo.ipynb)."
   ]
  }
 ],
 "metadata": {
  "kernelspec": {
   "display_name": "Python 3 (ipykernel)",
   "language": "python",
   "name": "python3"
  },
  "language_info": {
   "codemirror_mode": {
    "name": "ipython",
    "version": 3
   },
   "file_extension": ".py",
   "mimetype": "text/x-python",
   "name": "python",
   "nbconvert_exporter": "python",
   "pygments_lexer": "ipython3",
   "version": "3.11.4"
  },
  "toc-autonumbering": true,
  "varInspector": {
   "cols": {
    "lenName": 16,
    "lenType": 16,
    "lenVar": 40
   },
   "kernels_config": {
    "python": {
     "delete_cmd_postfix": "",
     "delete_cmd_prefix": "del ",
     "library": "var_list.py",
     "varRefreshCmd": "print(var_dic_list())"
    },
    "r": {
     "delete_cmd_postfix": ") ",
     "delete_cmd_prefix": "rm(",
     "library": "var_list.r",
     "varRefreshCmd": "cat(var_dic_list()) "
    }
   },
   "types_to_exclude": [
    "module",
    "function",
    "builtin_function_or_method",
    "instance",
    "_Feature"
   ],
   "window_display": false
  }
 },
 "nbformat": 4,
 "nbformat_minor": 5
}
