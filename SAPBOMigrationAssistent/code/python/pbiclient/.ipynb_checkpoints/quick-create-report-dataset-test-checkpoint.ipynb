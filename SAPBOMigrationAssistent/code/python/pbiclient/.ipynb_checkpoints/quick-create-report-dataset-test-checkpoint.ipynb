{
 "cells": [
  {
   "cell_type": "markdown",
   "id": "ce1426e9",
   "metadata": {},
   "source": [
    "# Demo - Create Create Power BI Reports\n",
    "\n",
    "Enable quick creation to explore the data, report and assists the team in automating report creation"
   ]
  },
  {
   "cell_type": "code",
   "execution_count": 1,
   "id": "e44c1a00-3f29-4db8-8c18-d6a145875e4b",
   "metadata": {},
   "outputs": [],
   "source": [
    "from powerbiclient import QuickVisualize, get_dataset_config, Report\n",
    "from powerbiclient.authentication import DeviceCodeLoginAuthentication\n",
    "\n",
    "import pandas as pd"
   ]
  },
  {
   "cell_type": "markdown",
   "id": "784a34f9",
   "metadata": {},
   "source": [
    "### Authenticate to Power BI\n",
    "\n",
    "Use Device authentication to get the token"
   ]
  },
  {
   "cell_type": "code",
   "execution_count": 2,
   "id": "c9b1cd26",
   "metadata": {},
   "outputs": [
    {
     "name": "stdout",
     "output_type": "stream",
     "text": [
      "Performing device flow authentication. Please follow the instructions below.\n",
      "To sign in, use a web browser to open the page https://microsoft.com/devicelogin and enter the code NVKMPSZLL to authenticate.\n",
      "\n",
      "Device flow authentication successfully completed.\n",
      "You are now logged in .\n",
      "\n",
      "The result should be passed only to trusted code in your notebook.\n"
     ]
    }
   ],
   "source": [
    "device_auth = DeviceCodeLoginAuthentication()"
   ]
  },
  {
   "cell_type": "markdown",
   "id": "93c8d2fd",
   "metadata": {},
   "source": [
    "### Import and process data\n",
    "Get the data in CSV and point to the CSV File"
   ]
  },
  {
   "cell_type": "code",
   "execution_count": 13,
   "id": "050531f3",
   "metadata": {},
   "outputs": [],
   "source": [
    "csv_data_file_path = \"ZZ_Sales Analysis Dashboard.csv\""
   ]
  },
  {
   "cell_type": "code",
   "execution_count": 14,
   "id": "4eb1d652",
   "metadata": {},
   "outputs": [
    {
     "data": {
      "text/html": [
       "<div>\n",
       "<style scoped>\n",
       "    .dataframe tbody tr th:only-of-type {\n",
       "        vertical-align: middle;\n",
       "    }\n",
       "\n",
       "    .dataframe tbody tr th {\n",
       "        vertical-align: top;\n",
       "    }\n",
       "\n",
       "    .dataframe thead th {\n",
       "        text-align: right;\n",
       "    }\n",
       "</style>\n",
       "<table border=\"1\" class=\"dataframe\">\n",
       "  <thead>\n",
       "    <tr style=\"text-align: right;\">\n",
       "      <th></th>\n",
       "      <th>Margin</th>\n",
       "      <th>Quantity sold</th>\n",
       "      <th>Sales revenue</th>\n",
       "      <th>State</th>\n",
       "      <th>City</th>\n",
       "      <th>Year</th>\n",
       "      <th>Quarter</th>\n",
       "      <th>Lines</th>\n",
       "      <th>Category</th>\n",
       "      <th>SKU number</th>\n",
       "      <th>Month</th>\n",
       "      <th>Month Name</th>\n",
       "    </tr>\n",
       "  </thead>\n",
       "  <tbody>\n",
       "    <tr>\n",
       "      <th>0</th>\n",
       "      <td>245.8</td>\n",
       "      <td>9</td>\n",
       "      <td>891</td>\n",
       "      <td>California</td>\n",
       "      <td>Los Angeles</td>\n",
       "      <td>2014</td>\n",
       "      <td>Q3</td>\n",
       "      <td>Accessories</td>\n",
       "      <td>Belts,bags,wallets</td>\n",
       "      <td>138627</td>\n",
       "      <td>9</td>\n",
       "      <td>September</td>\n",
       "    </tr>\n",
       "    <tr>\n",
       "      <th>1</th>\n",
       "      <td>3456.9</td>\n",
       "      <td>65</td>\n",
       "      <td>9795</td>\n",
       "      <td>California</td>\n",
       "      <td>Los Angeles</td>\n",
       "      <td>2014</td>\n",
       "      <td>Q3</td>\n",
       "      <td>Accessories</td>\n",
       "      <td>Belts,bags,wallets</td>\n",
       "      <td>146552</td>\n",
       "      <td>7</td>\n",
       "      <td>July</td>\n",
       "    </tr>\n",
       "    <tr>\n",
       "      <th>2</th>\n",
       "      <td>4787.0</td>\n",
       "      <td>97</td>\n",
       "      <td>13915</td>\n",
       "      <td>California</td>\n",
       "      <td>Los Angeles</td>\n",
       "      <td>2014</td>\n",
       "      <td>Q3</td>\n",
       "      <td>Accessories</td>\n",
       "      <td>Belts,bags,wallets</td>\n",
       "      <td>146552</td>\n",
       "      <td>8</td>\n",
       "      <td>August</td>\n",
       "    </tr>\n",
       "    <tr>\n",
       "      <th>3</th>\n",
       "      <td>131.4</td>\n",
       "      <td>2</td>\n",
       "      <td>338</td>\n",
       "      <td>California</td>\n",
       "      <td>Los Angeles</td>\n",
       "      <td>2014</td>\n",
       "      <td>Q3</td>\n",
       "      <td>Accessories</td>\n",
       "      <td>Belts,bags,wallets</td>\n",
       "      <td>146552</td>\n",
       "      <td>9</td>\n",
       "      <td>September</td>\n",
       "    </tr>\n",
       "    <tr>\n",
       "      <th>4</th>\n",
       "      <td>189.6</td>\n",
       "      <td>3</td>\n",
       "      <td>407</td>\n",
       "      <td>California</td>\n",
       "      <td>Los Angeles</td>\n",
       "      <td>2014</td>\n",
       "      <td>Q3</td>\n",
       "      <td>Accessories</td>\n",
       "      <td>Belts,bags,wallets</td>\n",
       "      <td>151807</td>\n",
       "      <td>7</td>\n",
       "      <td>July</td>\n",
       "    </tr>\n",
       "  </tbody>\n",
       "</table>\n",
       "</div>"
      ],
      "text/plain": [
       "   Margin  Quantity sold  Sales revenue       State         City  Year  \\\n",
       "0   245.8              9            891  California  Los Angeles  2014   \n",
       "1  3456.9             65           9795  California  Los Angeles  2014   \n",
       "2  4787.0             97          13915  California  Los Angeles  2014   \n",
       "3   131.4              2            338  California  Los Angeles  2014   \n",
       "4   189.6              3            407  California  Los Angeles  2014   \n",
       "\n",
       "  Quarter        Lines            Category  SKU number  Month Month Name  \n",
       "0      Q3  Accessories  Belts,bags,wallets      138627      9  September  \n",
       "1      Q3  Accessories  Belts,bags,wallets      146552      7       July  \n",
       "2      Q3  Accessories  Belts,bags,wallets      146552      8     August  \n",
       "3      Q3  Accessories  Belts,bags,wallets      146552      9  September  \n",
       "4      Q3  Accessories  Belts,bags,wallets      151807      7       July  "
      ]
     },
     "execution_count": 14,
     "metadata": {},
     "output_type": "execute_result"
    }
   ],
   "source": [
    "# Import sample CSV as a pandas DataFrame\n",
    "df = pd.read_csv(csv_data_file_path)\n",
    "\n",
    "# Display DataFrame\n",
    "df.head()"
   ]
  },
  {
   "cell_type": "code",
   "execution_count": 15,
   "id": "69edf996",
   "metadata": {},
   "outputs": [
    {
     "data": {
      "text/html": [
       "<div>\n",
       "<style scoped>\n",
       "    .dataframe tbody tr th:only-of-type {\n",
       "        vertical-align: middle;\n",
       "    }\n",
       "\n",
       "    .dataframe tbody tr th {\n",
       "        vertical-align: top;\n",
       "    }\n",
       "\n",
       "    .dataframe thead th {\n",
       "        text-align: right;\n",
       "    }\n",
       "</style>\n",
       "<table border=\"1\" class=\"dataframe\">\n",
       "  <thead>\n",
       "    <tr style=\"text-align: right;\">\n",
       "      <th></th>\n",
       "      <th>Margin</th>\n",
       "      <th>Quantity sold</th>\n",
       "      <th>Sales revenue</th>\n",
       "      <th>State</th>\n",
       "      <th>City</th>\n",
       "      <th>Year</th>\n",
       "      <th>Quarter</th>\n",
       "      <th>Lines</th>\n",
       "      <th>Category</th>\n",
       "      <th>SKU number</th>\n",
       "      <th>Month</th>\n",
       "      <th>Month Name</th>\n",
       "    </tr>\n",
       "  </thead>\n",
       "  <tbody>\n",
       "    <tr>\n",
       "      <th>0</th>\n",
       "      <td>245.8</td>\n",
       "      <td>9</td>\n",
       "      <td>891</td>\n",
       "      <td>California</td>\n",
       "      <td>Los Angeles</td>\n",
       "      <td>2014</td>\n",
       "      <td>Q3</td>\n",
       "      <td>Accessories</td>\n",
       "      <td>Belts,bags,wallets</td>\n",
       "      <td>138627</td>\n",
       "      <td>9</td>\n",
       "      <td>September</td>\n",
       "    </tr>\n",
       "    <tr>\n",
       "      <th>1</th>\n",
       "      <td>3456.9</td>\n",
       "      <td>65</td>\n",
       "      <td>9795</td>\n",
       "      <td>California</td>\n",
       "      <td>Los Angeles</td>\n",
       "      <td>2014</td>\n",
       "      <td>Q3</td>\n",
       "      <td>Accessories</td>\n",
       "      <td>Belts,bags,wallets</td>\n",
       "      <td>146552</td>\n",
       "      <td>7</td>\n",
       "      <td>July</td>\n",
       "    </tr>\n",
       "    <tr>\n",
       "      <th>2</th>\n",
       "      <td>4787.0</td>\n",
       "      <td>97</td>\n",
       "      <td>13915</td>\n",
       "      <td>California</td>\n",
       "      <td>Los Angeles</td>\n",
       "      <td>2014</td>\n",
       "      <td>Q3</td>\n",
       "      <td>Accessories</td>\n",
       "      <td>Belts,bags,wallets</td>\n",
       "      <td>146552</td>\n",
       "      <td>8</td>\n",
       "      <td>August</td>\n",
       "    </tr>\n",
       "    <tr>\n",
       "      <th>3</th>\n",
       "      <td>131.4</td>\n",
       "      <td>2</td>\n",
       "      <td>338</td>\n",
       "      <td>California</td>\n",
       "      <td>Los Angeles</td>\n",
       "      <td>2014</td>\n",
       "      <td>Q3</td>\n",
       "      <td>Accessories</td>\n",
       "      <td>Belts,bags,wallets</td>\n",
       "      <td>146552</td>\n",
       "      <td>9</td>\n",
       "      <td>September</td>\n",
       "    </tr>\n",
       "    <tr>\n",
       "      <th>4</th>\n",
       "      <td>189.6</td>\n",
       "      <td>3</td>\n",
       "      <td>407</td>\n",
       "      <td>California</td>\n",
       "      <td>Los Angeles</td>\n",
       "      <td>2014</td>\n",
       "      <td>Q3</td>\n",
       "      <td>Accessories</td>\n",
       "      <td>Belts,bags,wallets</td>\n",
       "      <td>151807</td>\n",
       "      <td>7</td>\n",
       "      <td>July</td>\n",
       "    </tr>\n",
       "  </tbody>\n",
       "</table>\n",
       "</div>"
      ],
      "text/plain": [
       "   Margin  Quantity sold  Sales revenue       State         City  Year  \\\n",
       "0   245.8              9            891  California  Los Angeles  2014   \n",
       "1  3456.9             65           9795  California  Los Angeles  2014   \n",
       "2  4787.0             97          13915  California  Los Angeles  2014   \n",
       "3   131.4              2            338  California  Los Angeles  2014   \n",
       "4   189.6              3            407  California  Los Angeles  2014   \n",
       "\n",
       "  Quarter        Lines            Category  SKU number  Month Month Name  \n",
       "0      Q3  Accessories  Belts,bags,wallets      138627      9  September  \n",
       "1      Q3  Accessories  Belts,bags,wallets      146552      7       July  \n",
       "2      Q3  Accessories  Belts,bags,wallets      146552      8     August  \n",
       "3      Q3  Accessories  Belts,bags,wallets      146552      9  September  \n",
       "4      Q3  Accessories  Belts,bags,wallets      151807      7       July  "
      ]
     },
     "execution_count": 15,
     "metadata": {},
     "output_type": "execute_result"
    }
   ],
   "source": [
    "# Preprocess data if needed\n",
    "\n",
    "#Display updated DataFrame\n",
    "df.head()"
   ]
  },
  {
   "cell_type": "markdown",
   "id": "e7d74b55",
   "metadata": {},
   "source": [
    "### Create quick Power BI visualization\n",
    "Auto generate the report adn interact with it to make any modifications and save it"
   ]
  },
  {
   "cell_type": "code",
   "execution_count": 16,
   "id": "40bf4ad9",
   "metadata": {},
   "outputs": [],
   "source": [
    "# Create a Power BI report from your data\n",
    "PBI_visualize = QuickVisualize(get_dataset_config(df), auth=device_auth)"
   ]
  },
  {
   "cell_type": "markdown",
   "id": "7c440583",
   "metadata": {},
   "source": [
    "### Power BI event handlers"
   ]
  },
  {
   "cell_type": "markdown",
   "id": "9a0b58be",
   "metadata": {},
   "source": [
    "#### Set quick visualization loaded event handler"
   ]
  },
  {
   "cell_type": "code",
   "execution_count": 17,
   "id": "8690985f",
   "metadata": {},
   "outputs": [],
   "source": [
    "def loaded_callback(event_details):\n",
    "    print('Quick visualize has loaded')\n",
    "\n",
    "PBI_visualize.on('loaded', loaded_callback)"
   ]
  },
  {
   "cell_type": "markdown",
   "id": "c5f1fc92",
   "metadata": {},
   "source": [
    "#### Set quick visualization rendered event handler"
   ]
  },
  {
   "cell_type": "code",
   "execution_count": 18,
   "id": "7493d09e",
   "metadata": {},
   "outputs": [],
   "source": [
    "def rendered_callback(event_details):\n",
    "    print('Quick visualize has rendered')\n",
    "\n",
    "PBI_visualize.on('rendered', rendered_callback)"
   ]
  },
  {
   "cell_type": "markdown",
   "id": "93e2ffef",
   "metadata": {},
   "source": [
    "#### Set quick visualization saved event handler"
   ]
  },
  {
   "cell_type": "code",
   "execution_count": 19,
   "id": "1a8e6f86",
   "metadata": {},
   "outputs": [],
   "source": [
    "def saved_callback(event_details):\n",
    "    print('Quick visualize has saved the report')\n",
    "\n",
    "PBI_visualize.on('saved', saved_callback)"
   ]
  },
  {
   "cell_type": "code",
   "execution_count": 23,
   "id": "bb3d0946",
   "metadata": {
    "scrolled": true
   },
   "outputs": [
    {
     "data": {
      "application/vnd.jupyter.widget-view+json": {
       "model_id": "add453678ef548e1bc7957bb9ded3442",
       "version_major": 2,
       "version_minor": 0
      },
      "text/plain": [
       "QuickVisualize()"
      ]
     },
     "execution_count": 23,
     "metadata": {},
     "output_type": "execute_result"
    },
    {
     "name": "stdout",
     "output_type": "stream",
     "text": [
      "Quick visualize has loaded\n",
      "Quick visualize has rendered\n",
      "Quick visualize has rendered\n",
      "Quick visualize has saved the report\n"
     ]
    }
   ],
   "source": [
    "# Render new report\n",
    "PBI_visualize"
   ]
  },
  {
   "cell_type": "markdown",
   "id": "4784dc27",
   "metadata": {},
   "source": [
    "### Configure report size\n",
    "Run the following code to configure the size of the embedded report output, to ensure the best fit in your notebook."
   ]
  },
  {
   "cell_type": "markdown",
   "id": "0fb09069",
   "metadata": {},
   "source": [
    "### Load saved report\n",
    "Once the report is saved above, you can view the report by loading the saved report"
   ]
  },
  {
   "cell_type": "code",
   "execution_count": 24,
   "id": "9a1b8596",
   "metadata": {},
   "outputs": [],
   "source": [
    "report = PBI_visualize.get_saved_report()"
   ]
  },
  {
   "cell_type": "code",
   "execution_count": 25,
   "id": "9019759c",
   "metadata": {},
   "outputs": [
    {
     "data": {
      "application/vnd.jupyter.widget-view+json": {
       "model_id": "9d2cb27b5b704f94a99d43ba81b80030",
       "version_major": 2,
       "version_minor": 0
      },
      "text/plain": [
       "Report()"
      ]
     },
     "execution_count": 25,
     "metadata": {},
     "output_type": "execute_result"
    }
   ],
   "source": [
    "#render the saved report \n",
    "report"
   ]
  },
  {
   "cell_type": "markdown",
   "id": "014b1574",
   "metadata": {},
   "source": [
    "You can interact with this report as part of your notebook. To learn more, visit our [documentation](https://github.com/microsoft/powerbi-jupyter/blob/main/DOCUMENTATION.md#PowerBI-report-embedding-widget) or the report embedding [demo](https://github.com/microsoft/powerbi-jupyter/blob/main/demo/Embed%20Power%20BI%20report%20demo.ipynb)."
   ]
  }
 ],
 "metadata": {
  "kernelspec": {
   "display_name": "Python 3 (ipykernel)",
   "language": "python",
   "name": "python3"
  },
  "language_info": {
   "codemirror_mode": {
    "name": "ipython",
    "version": 3
   },
   "file_extension": ".py",
   "mimetype": "text/x-python",
   "name": "python",
   "nbconvert_exporter": "python",
   "pygments_lexer": "ipython3",
   "version": "3.11.4"
  },
  "toc-autonumbering": true,
  "varInspector": {
   "cols": {
    "lenName": 16,
    "lenType": 16,
    "lenVar": 40
   },
   "kernels_config": {
    "python": {
     "delete_cmd_postfix": "",
     "delete_cmd_prefix": "del ",
     "library": "var_list.py",
     "varRefreshCmd": "print(var_dic_list())"
    },
    "r": {
     "delete_cmd_postfix": ") ",
     "delete_cmd_prefix": "rm(",
     "library": "var_list.r",
     "varRefreshCmd": "cat(var_dic_list()) "
    }
   },
   "types_to_exclude": [
    "module",
    "function",
    "builtin_function_or_method",
    "instance",
    "_Feature"
   ],
   "window_display": false
  }
 },
 "nbformat": 4,
 "nbformat_minor": 5
}
