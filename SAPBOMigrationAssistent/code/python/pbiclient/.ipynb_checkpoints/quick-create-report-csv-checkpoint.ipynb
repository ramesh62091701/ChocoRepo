{
 "cells": [
  {
   "cell_type": "markdown",
   "id": "ce1426e9",
   "metadata": {},
   "source": [
    "# Demo - Create Power BI Reports Quickly in Jupyter Notebooks\n",
    "The following notebook demonstrates how to quickly create Power BI reports from your data in Jupyter notebooks. \n",
    "The notebook will walk through the steps of authenticating to Power BI, importing and processing data, and auto-generating a Power BI report, all within the notebook.\n",
    "\n",
    "These reports can be used to explore your data, or as a starting point for creating a custom report. Interacting with the report is simple and empowers you to explore your data with just a few simple steps.\n"
   ]
  },
  {
   "cell_type": "code",
   "execution_count": 1,
   "id": "e44c1a00-3f29-4db8-8c18-d6a145875e4b",
   "metadata": {},
   "outputs": [],
   "source": [
    "from powerbiclient import QuickVisualize, get_dataset_config, Report\n",
    "from powerbiclient.authentication import DeviceCodeLoginAuthentication\n",
    "\n",
    "import pandas as pd"
   ]
  },
  {
   "cell_type": "markdown",
   "id": "784a34f9",
   "metadata": {},
   "source": [
    "### Authenticate to Power BI\n",
    "\n",
    "#### The following authentication methods can be used to authenticate the user and get the access token:\n",
    "\n",
    "- [Device flow authentication](https://msal-python.readthedocs.io/en/latest/#msal.PublicClientApplication.acquire_token_by_device_flow)\n",
    "    \n",
    "    Code snippet:\n",
    "    ``` py\n",
    "  from powerbiclient.authentication import DeviceCodeLoginAuthentication\n",
    "  device_auth = DeviceCodeLoginAuthentication()\n",
    "    ```\n",
    "- [Interactive authentication](https://msal-python.readthedocs.io/en/latest/#msal.PublicClientApplication.acquire_token_interactive)\n",
    "    \n",
    "    Code snippet:\n",
    "    ``` py\n",
    "  from powerbiclient.authentication import InteractiveLoginAuthentication\n",
    "  interactive_auth = InteractiveLoginAuthentication()    \n",
    "    ```\n",
    "\n",
    "Note: Either use auth object created or access token acquired above while creating the report instance\n"
   ]
  },
  {
   "cell_type": "markdown",
   "id": "81ce840c",
   "metadata": {},
   "source": [
    "#### Run the cell below and follow the steps in the output to obtain the auth object using the Device Flow Authentication method for the demo notebook"
   ]
  },
  {
   "cell_type": "code",
   "execution_count": 2,
   "id": "c9b1cd26",
   "metadata": {},
   "outputs": [
    {
     "name": "stdout",
     "output_type": "stream",
     "text": [
      "Performing device flow authentication. Please follow the instructions below.\n",
      "To sign in, use a web browser to open the page https://microsoft.com/devicelogin and enter the code SCBVWSBYZ to authenticate.\n",
      "\n",
      "Device flow authentication successfully completed.\n",
      "You are now logged in .\n",
      "\n",
      "The result should be passed only to trusted code in your notebook.\n"
     ]
    }
   ],
   "source": [
    "device_auth = DeviceCodeLoginAuthentication()"
   ]
  },
  {
   "cell_type": "markdown",
   "id": "93c8d2fd",
   "metadata": {},
   "source": [
    "### Import and process data\n",
    "The code below is used to import a sample dataset as a pandas DataFrame and preform basic preprocessing on it. Make sure you've downloaded the sample csv file, located in the Demo folder"
   ]
  },
  {
   "cell_type": "code",
   "execution_count": 3,
   "id": "4eb1d652",
   "metadata": {},
   "outputs": [
    {
     "data": {
      "text/html": [
       "<div>\n",
       "<style scoped>\n",
       "    .dataframe tbody tr th:only-of-type {\n",
       "        vertical-align: middle;\n",
       "    }\n",
       "\n",
       "    .dataframe tbody tr th {\n",
       "        vertical-align: top;\n",
       "    }\n",
       "\n",
       "    .dataframe thead th {\n",
       "        text-align: right;\n",
       "    }\n",
       "</style>\n",
       "<table border=\"1\" class=\"dataframe\">\n",
       "  <thead>\n",
       "    <tr style=\"text-align: right;\">\n",
       "      <th></th>\n",
       "      <th>Segment</th>\n",
       "      <th>Country</th>\n",
       "      <th>Product</th>\n",
       "      <th>Discount Band</th>\n",
       "      <th>Units Sold</th>\n",
       "      <th>Manufacturing Price</th>\n",
       "      <th>Sale Price</th>\n",
       "      <th>Gross Sales</th>\n",
       "      <th>Discounts</th>\n",
       "      <th>Sales</th>\n",
       "      <th>COGS</th>\n",
       "      <th>Profit</th>\n",
       "      <th>Date</th>\n",
       "      <th>Month Number</th>\n",
       "      <th>Month Name</th>\n",
       "      <th>Year</th>\n",
       "    </tr>\n",
       "  </thead>\n",
       "  <tbody>\n",
       "    <tr>\n",
       "      <th>0</th>\n",
       "      <td>Government</td>\n",
       "      <td>Canada</td>\n",
       "      <td>Montana</td>\n",
       "      <td>High</td>\n",
       "      <td>200.0</td>\n",
       "      <td>5</td>\n",
       "      <td>350</td>\n",
       "      <td>70000.0</td>\n",
       "      <td>9800.0</td>\n",
       "      <td>60200.0</td>\n",
       "      <td>52000.0</td>\n",
       "      <td>8200.0</td>\n",
       "      <td>5/1/2014</td>\n",
       "      <td>5</td>\n",
       "      <td>May</td>\n",
       "      <td>2014</td>\n",
       "    </tr>\n",
       "    <tr>\n",
       "      <th>1</th>\n",
       "      <td>Small Business</td>\n",
       "      <td>Germany</td>\n",
       "      <td>Carretera</td>\n",
       "      <td>Low</td>\n",
       "      <td>214.0</td>\n",
       "      <td>3</td>\n",
       "      <td>300</td>\n",
       "      <td>64200.0</td>\n",
       "      <td>1284.0</td>\n",
       "      <td>62916.0</td>\n",
       "      <td>53500.0</td>\n",
       "      <td>9416.0</td>\n",
       "      <td>10/1/2013</td>\n",
       "      <td>10</td>\n",
       "      <td>October</td>\n",
       "      <td>2013</td>\n",
       "    </tr>\n",
       "    <tr>\n",
       "      <th>2</th>\n",
       "      <td>Small Business</td>\n",
       "      <td>Germany</td>\n",
       "      <td>VTT</td>\n",
       "      <td>Low</td>\n",
       "      <td>214.0</td>\n",
       "      <td>250</td>\n",
       "      <td>300</td>\n",
       "      <td>64200.0</td>\n",
       "      <td>1284.0</td>\n",
       "      <td>62916.0</td>\n",
       "      <td>53500.0</td>\n",
       "      <td>9416.0</td>\n",
       "      <td>10/1/2013</td>\n",
       "      <td>10</td>\n",
       "      <td>October</td>\n",
       "      <td>2013</td>\n",
       "    </tr>\n",
       "    <tr>\n",
       "      <th>3</th>\n",
       "      <td>Midmarket</td>\n",
       "      <td>Canada</td>\n",
       "      <td>Paseo</td>\n",
       "      <td>Low</td>\n",
       "      <td>218.0</td>\n",
       "      <td>10</td>\n",
       "      <td>15</td>\n",
       "      <td>3270.0</td>\n",
       "      <td>130.8</td>\n",
       "      <td>3139.2</td>\n",
       "      <td>2180.0</td>\n",
       "      <td>959.2</td>\n",
       "      <td>9/1/2014</td>\n",
       "      <td>9</td>\n",
       "      <td>September</td>\n",
       "      <td>2014</td>\n",
       "    </tr>\n",
       "    <tr>\n",
       "      <th>4</th>\n",
       "      <td>Government</td>\n",
       "      <td>Germany</td>\n",
       "      <td>Paseo</td>\n",
       "      <td>High</td>\n",
       "      <td>241.0</td>\n",
       "      <td>10</td>\n",
       "      <td>20</td>\n",
       "      <td>4820.0</td>\n",
       "      <td>482.0</td>\n",
       "      <td>4338.0</td>\n",
       "      <td>2410.0</td>\n",
       "      <td>1928.0</td>\n",
       "      <td>10/1/2014</td>\n",
       "      <td>10</td>\n",
       "      <td>October</td>\n",
       "      <td>2014</td>\n",
       "    </tr>\n",
       "  </tbody>\n",
       "</table>\n",
       "</div>"
      ],
      "text/plain": [
       "          Segment  Country      Product Discount Band  Units Sold  \\\n",
       "0      Government   Canada     Montana          High        200.0   \n",
       "1  Small Business  Germany   Carretera           Low        214.0   \n",
       "2  Small Business  Germany         VTT           Low        214.0   \n",
       "3       Midmarket   Canada       Paseo           Low        218.0   \n",
       "4      Government  Germany       Paseo          High        241.0   \n",
       "\n",
       "   Manufacturing Price  Sale Price  Gross Sales  Discounts    Sales     COGS  \\\n",
       "0                    5         350      70000.0     9800.0  60200.0  52000.0   \n",
       "1                    3         300      64200.0     1284.0  62916.0  53500.0   \n",
       "2                  250         300      64200.0     1284.0  62916.0  53500.0   \n",
       "3                   10          15       3270.0      130.8   3139.2   2180.0   \n",
       "4                   10          20       4820.0      482.0   4338.0   2410.0   \n",
       "\n",
       "   Profit       Date  Month Number   Month Name  Year  \n",
       "0  8200.0   5/1/2014             5         May   2014  \n",
       "1  9416.0  10/1/2013            10     October   2013  \n",
       "2  9416.0  10/1/2013            10     October   2013  \n",
       "3   959.2   9/1/2014             9   September   2014  \n",
       "4  1928.0  10/1/2014            10     October   2014  "
      ]
     },
     "execution_count": 3,
     "metadata": {},
     "output_type": "execute_result"
    }
   ],
   "source": [
    "# Import sample CSV as a pandas DataFrame\n",
    "df = pd.read_csv('Financial Sample.csv')\n",
    "\n",
    "# Display DataFrame\n",
    "df.head()"
   ]
  },
  {
   "cell_type": "code",
   "execution_count": 4,
   "id": "69edf996",
   "metadata": {},
   "outputs": [
    {
     "data": {
      "text/html": [
       "<div>\n",
       "<style scoped>\n",
       "    .dataframe tbody tr th:only-of-type {\n",
       "        vertical-align: middle;\n",
       "    }\n",
       "\n",
       "    .dataframe tbody tr th {\n",
       "        vertical-align: top;\n",
       "    }\n",
       "\n",
       "    .dataframe thead th {\n",
       "        text-align: right;\n",
       "    }\n",
       "</style>\n",
       "<table border=\"1\" class=\"dataframe\">\n",
       "  <thead>\n",
       "    <tr style=\"text-align: right;\">\n",
       "      <th></th>\n",
       "      <th>Segment</th>\n",
       "      <th>Country</th>\n",
       "      <th>Product</th>\n",
       "      <th>Discount Band</th>\n",
       "      <th>Units Sold</th>\n",
       "      <th>Manufacturing Price</th>\n",
       "      <th>Sale Price</th>\n",
       "      <th>Gross Sales</th>\n",
       "      <th>Discounts</th>\n",
       "      <th>Sales</th>\n",
       "      <th>COGS</th>\n",
       "      <th>Profit</th>\n",
       "      <th>Date</th>\n",
       "      <th>Discounted</th>\n",
       "    </tr>\n",
       "  </thead>\n",
       "  <tbody>\n",
       "    <tr>\n",
       "      <th>201</th>\n",
       "      <td>Government</td>\n",
       "      <td>Germany</td>\n",
       "      <td>Velo</td>\n",
       "      <td>Medium</td>\n",
       "      <td>1001.0</td>\n",
       "      <td>120</td>\n",
       "      <td>20</td>\n",
       "      <td>20020.0</td>\n",
       "      <td>1201.2</td>\n",
       "      <td>18818.8</td>\n",
       "      <td>10010.0</td>\n",
       "      <td>8808.8</td>\n",
       "      <td>8/1/2014</td>\n",
       "      <td>True</td>\n",
       "    </tr>\n",
       "    <tr>\n",
       "      <th>202</th>\n",
       "      <td>Channel Partners</td>\n",
       "      <td>Mexico</td>\n",
       "      <td>VTT</td>\n",
       "      <td>High</td>\n",
       "      <td>1005.0</td>\n",
       "      <td>250</td>\n",
       "      <td>12</td>\n",
       "      <td>12060.0</td>\n",
       "      <td>1326.6</td>\n",
       "      <td>10733.4</td>\n",
       "      <td>3015.0</td>\n",
       "      <td>7718.4</td>\n",
       "      <td>9/1/2013</td>\n",
       "      <td>True</td>\n",
       "    </tr>\n",
       "    <tr>\n",
       "      <th>203</th>\n",
       "      <td>Government</td>\n",
       "      <td>Germany</td>\n",
       "      <td>Paseo</td>\n",
       "      <td></td>\n",
       "      <td>1006.0</td>\n",
       "      <td>10</td>\n",
       "      <td>350</td>\n",
       "      <td>352100.0</td>\n",
       "      <td>0.0</td>\n",
       "      <td>352100.0</td>\n",
       "      <td>261560.0</td>\n",
       "      <td>90540.0</td>\n",
       "      <td>6/1/2014</td>\n",
       "      <td>False</td>\n",
       "    </tr>\n",
       "    <tr>\n",
       "      <th>204</th>\n",
       "      <td>Government</td>\n",
       "      <td>Germany</td>\n",
       "      <td>Velo</td>\n",
       "      <td></td>\n",
       "      <td>1006.0</td>\n",
       "      <td>120</td>\n",
       "      <td>350</td>\n",
       "      <td>352100.0</td>\n",
       "      <td>0.0</td>\n",
       "      <td>352100.0</td>\n",
       "      <td>261560.0</td>\n",
       "      <td>90540.0</td>\n",
       "      <td>6/1/2014</td>\n",
       "      <td>False</td>\n",
       "    </tr>\n",
       "    <tr>\n",
       "      <th>205</th>\n",
       "      <td>Small Business</td>\n",
       "      <td>United States of America</td>\n",
       "      <td>Carretera</td>\n",
       "      <td>High</td>\n",
       "      <td>1010.0</td>\n",
       "      <td>3</td>\n",
       "      <td>300</td>\n",
       "      <td>303000.0</td>\n",
       "      <td>42420.0</td>\n",
       "      <td>260580.0</td>\n",
       "      <td>252500.0</td>\n",
       "      <td>8080.0</td>\n",
       "      <td>10/1/2014</td>\n",
       "      <td>True</td>\n",
       "    </tr>\n",
       "  </tbody>\n",
       "</table>\n",
       "</div>"
      ],
      "text/plain": [
       "              Segment                   Country      Product Discount Band  \\\n",
       "201        Government                   Germany        Velo        Medium    \n",
       "202  Channel Partners                    Mexico         VTT          High    \n",
       "203        Government                   Germany       Paseo                  \n",
       "204        Government                   Germany        Velo                  \n",
       "205    Small Business  United States of America   Carretera          High    \n",
       "\n",
       "     Units Sold  Manufacturing Price  Sale Price  Gross Sales  Discounts  \\\n",
       "201      1001.0                  120          20      20020.0     1201.2   \n",
       "202      1005.0                  250          12      12060.0     1326.6   \n",
       "203      1006.0                   10         350     352100.0        0.0   \n",
       "204      1006.0                  120         350     352100.0        0.0   \n",
       "205      1010.0                    3         300     303000.0    42420.0   \n",
       "\n",
       "        Sales      COGS   Profit       Date  Discounted  \n",
       "201   18818.8   10010.0   8808.8   8/1/2014        True  \n",
       "202   10733.4    3015.0   7718.4   9/1/2013        True  \n",
       "203  352100.0  261560.0  90540.0   6/1/2014       False  \n",
       "204  352100.0  261560.0  90540.0   6/1/2014       False  \n",
       "205  260580.0  252500.0   8080.0  10/1/2014        True  "
      ]
     },
     "execution_count": 4,
     "metadata": {},
     "output_type": "execute_result"
    }
   ],
   "source": [
    "# Preprocessing - remove columns, limit to products with over 1000 units sold, and create a binary column indicating whether a product was discounted or not\n",
    "df = df.drop(['Month Number', 'Month Name', 'Year'], axis=1)\n",
    "df = df.loc[df['Units Sold'] > 1000]\n",
    "df = df.fillna('')\n",
    "df['Discounted'] = df['Discount Band'] != ''\n",
    "\n",
    "#Display updated DataFrame\n",
    "df.head()"
   ]
  },
  {
   "cell_type": "markdown",
   "id": "e7d74b55",
   "metadata": {},
   "source": [
    "### Create quick Power BI visualization\n",
    "Run the code below to use the authentication object and DataFrame obtained above to create a Power BI report and render the report to the notebook.\n",
    "The output will be an autogenerated report within a few seconds. You can interact with the report, configure the data fields, edit the report layout, and save the report to Power BI.\n",
    "\n",
    "Learn more here - [Interacting with autogenerated \"quick\" reports](https://learn.microsoft.com/en-us/power-bi/create-reports/service-interact-quick-report)\n",
    "\n",
    "To create a new report, simply run the cells below again."
   ]
  },
  {
   "cell_type": "markdown",
   "id": "07198839",
   "metadata": {},
   "source": [
    "Create a report instance:"
   ]
  },
  {
   "cell_type": "code",
   "execution_count": null,
   "id": "40bf4ad9",
   "metadata": {},
   "outputs": [],
   "source": [
    "# Create a Power BI report from your data\n",
    "PBI_visualize = QuickVisualize(get_dataset_config(df), auth=device_auth)"
   ]
  },
  {
   "cell_type": "markdown",
   "id": "7c440583",
   "metadata": {},
   "source": [
    "### Power BI event handlers"
   ]
  },
  {
   "cell_type": "markdown",
   "id": "9a0b58be",
   "metadata": {},
   "source": [
    "#### Set quick visualization loaded event handler"
   ]
  },
  {
   "cell_type": "code",
   "execution_count": null,
   "id": "8690985f",
   "metadata": {},
   "outputs": [],
   "source": [
    "def loaded_callback(event_details):\n",
    "    print('Quick visualize has loaded')\n",
    "\n",
    "PBI_visualize.on('loaded', loaded_callback)"
   ]
  },
  {
   "cell_type": "markdown",
   "id": "c5f1fc92",
   "metadata": {},
   "source": [
    "#### Set quick visualization rendered event handler"
   ]
  },
  {
   "cell_type": "code",
   "execution_count": null,
   "id": "7493d09e",
   "metadata": {},
   "outputs": [],
   "source": [
    "def rendered_callback(event_details):\n",
    "    print('Quick visualize has rendered')\n",
    "\n",
    "PBI_visualize.on('rendered', rendered_callback)"
   ]
  },
  {
   "cell_type": "markdown",
   "id": "93e2ffef",
   "metadata": {},
   "source": [
    "#### Set quick visualization saved event handler"
   ]
  },
  {
   "cell_type": "code",
   "execution_count": null,
   "id": "1a8e6f86",
   "metadata": {},
   "outputs": [],
   "source": [
    "def saved_callback(event_details):\n",
    "    print('Quick visualize has saved the report')\n",
    "\n",
    "PBI_visualize.on('saved', saved_callback)"
   ]
  },
  {
   "cell_type": "code",
   "execution_count": null,
   "id": "bb3d0946",
   "metadata": {},
   "outputs": [],
   "source": [
    "# Render new report\n",
    "PBI_visualize"
   ]
  },
  {
   "cell_type": "markdown",
   "id": "4784dc27",
   "metadata": {},
   "source": [
    "### Configure report size\n",
    "Run the following code to configure the size of the embedded report output, to ensure the best fit in your notebook."
   ]
  },
  {
   "cell_type": "code",
   "execution_count": null,
   "id": "4c6b6c85",
   "metadata": {},
   "outputs": [],
   "source": [
    "# Set new width and height for the container\n",
    "PBI_visualize.set_size(400, 600)"
   ]
  },
  {
   "cell_type": "markdown",
   "id": "0fb09069",
   "metadata": {},
   "source": [
    "### Load saved report\n",
    "Once you're happy with your report, you can either keep it in the notebook, or save it to Power BI. The code block below demonstrates how to load the report again using the Power BI library after you've saved it. This can be done as long as the kernel is still active. \n",
    "Alternatively, you can load any report using the group_id and report_id parameters, as explained [here](https://github.com/microsoft/powerbi-jupyter/blob/main/DOCUMENTATION.md#__init__-report)."
   ]
  },
  {
   "cell_type": "code",
   "execution_count": null,
   "id": "9a1b8596",
   "metadata": {},
   "outputs": [],
   "source": [
    "report = PBI_visualize.get_saved_report()"
   ]
  },
  {
   "cell_type": "markdown",
   "id": "a0642fc7",
   "metadata": {},
   "source": [
    "### Load report in output cell"
   ]
  },
  {
   "cell_type": "code",
   "execution_count": null,
   "id": "9019759c",
   "metadata": {},
   "outputs": [],
   "source": [
    "#render report \n",
    "report"
   ]
  },
  {
   "cell_type": "markdown",
   "id": "014b1574",
   "metadata": {},
   "source": [
    "You can interact with this report as part of your notebook. To learn more, visit our [documentation](https://github.com/microsoft/powerbi-jupyter/blob/main/DOCUMENTATION.md#PowerBI-report-embedding-widget) or the report embedding [demo](https://github.com/microsoft/powerbi-jupyter/blob/main/demo/Embed%20Power%20BI%20report%20demo.ipynb)."
   ]
  }
 ],
 "metadata": {
  "kernelspec": {
   "display_name": "Python 3 (ipykernel)",
   "language": "python",
   "name": "python3"
  },
  "language_info": {
   "codemirror_mode": {
    "name": "ipython",
    "version": 3
   },
   "file_extension": ".py",
   "mimetype": "text/x-python",
   "name": "python",
   "nbconvert_exporter": "python",
   "pygments_lexer": "ipython3",
   "version": "3.11.4"
  },
  "toc-autonumbering": true,
  "varInspector": {
   "cols": {
    "lenName": 16,
    "lenType": 16,
    "lenVar": 40
   },
   "kernels_config": {
    "python": {
     "delete_cmd_postfix": "",
     "delete_cmd_prefix": "del ",
     "library": "var_list.py",
     "varRefreshCmd": "print(var_dic_list())"
    },
    "r": {
     "delete_cmd_postfix": ") ",
     "delete_cmd_prefix": "rm(",
     "library": "var_list.r",
     "varRefreshCmd": "cat(var_dic_list()) "
    }
   },
   "types_to_exclude": [
    "module",
    "function",
    "builtin_function_or_method",
    "instance",
    "_Feature"
   ],
   "window_display": false
  }
 },
 "nbformat": 4,
 "nbformat_minor": 5
}
