{
 "cells": [
  {
   "cell_type": "markdown",
   "id": "9fdd05ae",
   "metadata": {},
   "source": [
    "# Sonata Lightning Tools: Matadata Parser\n",
    "\n",
    "### Program to parse the SAPBO Reports metadata for analysis"
   ]
  },
  {
   "cell_type": "code",
   "execution_count": 1,
   "id": "e9d95f9b",
   "metadata": {},
   "outputs": [],
   "source": [
    "import requests\n",
    "from lxml import etree\n",
    "import json\n",
    "import csv\n",
    "import pandas as pd\n",
    "import configparser\n",
    "%run lightning_helper.ipynb"
   ]
  },
  {
   "cell_type": "markdown",
   "id": "35359ee5",
   "metadata": {},
   "source": [
    "## Config class to get the BO Server configurations"
   ]
  },
  {
   "cell_type": "code",
   "execution_count": 2,
   "id": "cdec78e8",
   "metadata": {},
   "outputs": [],
   "source": [
    "class BOServerConfig:\n",
    "    # Create a configuration parser\n",
    "    config = configparser.ConfigParser()\n",
    "    config.read(get_full_file_path('config','config.ini'))\n",
    "    \n",
    "    # Expose configuration values as class attributes\n",
    "    protocol = config.get('sapboserver', 'protocol')\n",
    "    ipaddress = config.get('sapboserver', 'ipaddress')\n",
    "    port = config.get('sapboserver', 'port')\n",
    "    username = config.get('sapboserver', 'username')\n",
    "    password = config.get('sapboserver', 'password')"
   ]
  },
  {
   "cell_type": "markdown",
   "id": "4a8ebec2",
   "metadata": {},
   "source": [
    "## Parser class to connect to SAP BO and provide login and request/response services"
   ]
  },
  {
   "cell_type": "code",
   "execution_count": 15,
   "id": "3372525e",
   "metadata": {},
   "outputs": [],
   "source": [
    "class SAP_BO_Parser():\n",
    "\n",
    "    def __init__(self, protocol='http', host='localhost', port='8080', content_type='application/json'):\n",
    "        base_url = protocol + '://' + host + ':' + port\n",
    "        self.bip_url = base_url + '/biprws'\n",
    "        self.webi_url = self.bip_url + '/raylight/v1'\n",
    "        self.sl_url = self.bip_url + '/sl/v1'\n",
    "        self.headers = {\n",
    "            'Accept': 'application/json',\n",
    "            'Content-Type': 'application/json'\n",
    "        }\n",
    "      \n",
    "    def _get_auth_info(self):\n",
    "        return requests.get(self.bip_url + '/logon/long',\n",
    "                            headers=self.headers)\n",
    "\n",
    "    def _send_auth_info(self, username, password):\n",
    "        '''Helper function to retrieve a log in token'''\n",
    "        auth_template = self._get_auth_info().text\n",
    "         \n",
    "        jdata = json.loads(auth_template)\n",
    "        jdata[\"userName\"] = username\n",
    "        jdata[\"password\"] = password\n",
    "\n",
    "        return requests.post(self.bip_url + '/logon/long',headers=self.headers, data=json.dumps(jdata))     \n",
    "    \n",
    "    def set_logon_token(self, username, password):\n",
    "        resp = self._send_auth_info(username, password)\n",
    "       \n",
    "        if resp.status_code == 200:\n",
    "            login_response = json.loads(resp.text)\n",
    "            \n",
    "            # Set logon token in headers\n",
    "            self.headers['X-SAP-LogonToken'] = login_response['logonToken']\n",
    "        else:\n",
    "            \n",
    "            # Crude exception handling\n",
    "            raise Exception(\"Could not log on and set the logon token!\")\n",
    "            \n",
    "    def get_metadata(self, meta_url):\n",
    "        rest_url = self.webi_url + '/' + meta_url\n",
    "        print(rest_url)\n",
    "        resp = requests.get(rest_url, headers=self.headers)\n",
    "            \n",
    "        if resp.status_code == 200:\n",
    "            #print(resp.text)\n",
    "            response = json.loads(resp.text)\n",
    "            return response\n",
    "        else:\n",
    "            # Crude Exception handling\n",
    "            raise Exception('Request Exception' + resp.status_code + ' ' + resp.reason)\n",
    "    \n"
   ]
  },
  {
   "cell_type": "markdown",
   "id": "9490de67",
   "metadata": {},
   "source": [
    "## Writer class to write data from SAP BO into csv files for processing"
   ]
  },
  {
   "cell_type": "code",
   "execution_count": 4,
   "id": "ae5ad544",
   "metadata": {},
   "outputs": [],
   "source": [
    "class SAP_BO_Metadata_Writer:\n",
    "    \n",
    "    def convert_json_to_csv(json_rows, csv_file_path):\n",
    "        \n",
    "        print( json_rows[0].keys())\n",
    "        column_names = json_rows[0].keys()\n",
    "        print( json_rows[0])\n",
    "\n",
    "        # Write JSON data to a CSV file\n",
    "        with open(csv_file_path, mode='w', newline='') as csv_file:\n",
    "            writer = csv.DictWriter(csv_file, fieldnames=column_names)\n",
    "            # Write header row\n",
    "            writer.writeheader()  \n",
    "\n",
    "            # Write data rows\n",
    "            writer.writerows(json_rows)  \n",
    "    def convert_json_to_csv_panda(json_rows, csv_file_path):\n",
    "       \n",
    "        df = pd.DataFrame(json_rows)\n",
    "        # Write data to a CSV file\n",
    "        df.to_csv(csv_file_path, index=False)\n",
    "        \n",
    "        return df\n",
    "            \n"
   ]
  },
  {
   "cell_type": "code",
   "execution_count": 5,
   "id": "f777efd8",
   "metadata": {},
   "outputs": [],
   "source": [
    "class Universes:\n",
    "    Universes_Root = \"universes\"\n",
    "    Universe_Root = \"universe\"\n",
    "        \n",
    "    def write_universes(json_data):\n",
    "        csv_file_path = get_full_file_path('output', Universes.Universes_Root + '.csv')\n",
    "        json_rows = json_data[Universes.Universes_Root][Universes.Universe_Root]\n",
    "        df = SAP_BO_Metadata_Writer.convert_json_to_csv_panda(json_rows, csv_file_path);\n",
    "        return df\n",
    "    \n",
    "    def write_universe(json_data, csv_file_path):\n",
    "        csv_file_path = get_full_file_path('output', Universes.Universe_Root + '.csv')\n",
    "        json_rows = json_data[Universes.Universe_Root]['universe']\n",
    "        SAP_BO_Metadata_Writer.convert_json_to_csv_panda(json_rows, csv_file_path);"
   ]
  },
  {
   "cell_type": "markdown",
   "id": "c0d0c815",
   "metadata": {},
   "source": [
    "### Connect to BO to get the Logon Token"
   ]
  },
  {
   "cell_type": "code",
   "execution_count": 16,
   "id": "9ecdd9f9",
   "metadata": {},
   "outputs": [],
   "source": [
    "parser = SAP_BO_Parser(BOServerConfig.protocol, BOServerConfig.ipaddress, BOServerConfig.port, \"application/json\")\n",
    "parser.set_logon_token(BOServerConfig.username, BOServerConfig.password)"
   ]
  },
  {
   "cell_type": "markdown",
   "id": "8317d0d1",
   "metadata": {},
   "source": [
    "### Write Universes"
   ]
  },
  {
   "cell_type": "code",
   "execution_count": 8,
   "id": "ae160803",
   "metadata": {},
   "outputs": [],
   "source": [
    "response_json = parser.get_metadata(Universes.Universes_Root)"
   ]
  },
  {
   "cell_type": "code",
   "execution_count": 9,
   "id": "ed4c5519",
   "metadata": {},
   "outputs": [],
   "source": [
    "df = Universes.write_universes(response_json)"
   ]
  },
  {
   "cell_type": "code",
   "execution_count": 10,
   "id": "c1b26f1e",
   "metadata": {},
   "outputs": [
    {
     "data": {
      "text/html": [
       "<div>\n",
       "<style scoped>\n",
       "    .dataframe tbody tr th:only-of-type {\n",
       "        vertical-align: middle;\n",
       "    }\n",
       "\n",
       "    .dataframe tbody tr th {\n",
       "        vertical-align: top;\n",
       "    }\n",
       "\n",
       "    .dataframe thead th {\n",
       "        text-align: right;\n",
       "    }\n",
       "</style>\n",
       "<table border=\"1\" class=\"dataframe\">\n",
       "  <thead>\n",
       "    <tr style=\"text-align: right;\">\n",
       "      <th></th>\n",
       "      <th>id</th>\n",
       "      <th>cuid</th>\n",
       "      <th>name</th>\n",
       "      <th>type</th>\n",
       "      <th>subType</th>\n",
       "      <th>folderId</th>\n",
       "      <th>revision</th>\n",
       "      <th>description</th>\n",
       "    </tr>\n",
       "  </thead>\n",
       "  <tbody>\n",
       "    <tr>\n",
       "      <th>0</th>\n",
       "      <td>6816</td>\n",
       "      <td>ARVjUijBiI1ClmVC2H.XYgc</td>\n",
       "      <td>BI platform CMS system database.unx</td>\n",
       "      <td>unx</td>\n",
       "      <td>UnxRelational</td>\n",
       "      <td>6819</td>\n",
       "      <td>423003</td>\n",
       "      <td>NaN</td>\n",
       "    </tr>\n",
       "    <tr>\n",
       "      <th>1</th>\n",
       "      <td>5636</td>\n",
       "      <td>AVy_0kTnql9IpZ167YoP5SA</td>\n",
       "      <td>eFashion.unx</td>\n",
       "      <td>unx</td>\n",
       "      <td>UnxRelational</td>\n",
       "      <td>5639</td>\n",
       "      <td>9</td>\n",
       "      <td>eFashion retail Data Warehouse dated 14 Oct 20...</td>\n",
       "    </tr>\n",
       "    <tr>\n",
       "      <th>2</th>\n",
       "      <td>6845</td>\n",
       "      <td>AfgXNuog4EVGtRaVOyhw0rA</td>\n",
       "      <td>Promotion Universe</td>\n",
       "      <td>unv</td>\n",
       "      <td>UnvClassic</td>\n",
       "      <td>6158</td>\n",
       "      <td>1</td>\n",
       "      <td>NaN</td>\n",
       "    </tr>\n",
       "    <tr>\n",
       "      <th>3</th>\n",
       "      <td>5646</td>\n",
       "      <td>AamfjLdF3Y1IoWCqLq7LobA</td>\n",
       "      <td>Rio2016.unx</td>\n",
       "      <td>unx</td>\n",
       "      <td>UnxRelational</td>\n",
       "      <td>5639</td>\n",
       "      <td>4</td>\n",
       "      <td>NaN</td>\n",
       "    </tr>\n",
       "    <tr>\n",
       "      <th>4</th>\n",
       "      <td>6159</td>\n",
       "      <td>Abk2MhnEU7NDsOrWiXmVQFs</td>\n",
       "      <td>Univers2</td>\n",
       "      <td>unv</td>\n",
       "      <td>UnvClassic</td>\n",
       "      <td>6158</td>\n",
       "      <td>1</td>\n",
       "      <td>NaN</td>\n",
       "    </tr>\n",
       "  </tbody>\n",
       "</table>\n",
       "</div>"
      ],
      "text/plain": [
       "     id                     cuid                                 name type  \\\n",
       "0  6816  ARVjUijBiI1ClmVC2H.XYgc  BI platform CMS system database.unx  unx   \n",
       "1  5636  AVy_0kTnql9IpZ167YoP5SA                         eFashion.unx  unx   \n",
       "2  6845  AfgXNuog4EVGtRaVOyhw0rA                   Promotion Universe  unv   \n",
       "3  5646  AamfjLdF3Y1IoWCqLq7LobA                          Rio2016.unx  unx   \n",
       "4  6159  Abk2MhnEU7NDsOrWiXmVQFs                             Univers2  unv   \n",
       "\n",
       "         subType  folderId  revision  \\\n",
       "0  UnxRelational      6819    423003   \n",
       "1  UnxRelational      5639         9   \n",
       "2     UnvClassic      6158         1   \n",
       "3  UnxRelational      5639         4   \n",
       "4     UnvClassic      6158         1   \n",
       "\n",
       "                                         description  \n",
       "0                                                NaN  \n",
       "1  eFashion retail Data Warehouse dated 14 Oct 20...  \n",
       "2                                                NaN  \n",
       "3                                                NaN  \n",
       "4                                                NaN  "
      ]
     },
     "execution_count": 10,
     "metadata": {},
     "output_type": "execute_result"
    }
   ],
   "source": [
    "df.head()"
   ]
  }
 ],
 "metadata": {
  "kernelspec": {
   "display_name": "Python 3 (ipykernel)",
   "language": "python",
   "name": "python3"
  },
  "language_info": {
   "codemirror_mode": {
    "name": "ipython",
    "version": 3
   },
   "file_extension": ".py",
   "mimetype": "text/x-python",
   "name": "python",
   "nbconvert_exporter": "python",
   "pygments_lexer": "ipython3",
   "version": "3.11.4"
  }
 },
 "nbformat": 4,
 "nbformat_minor": 5
}
