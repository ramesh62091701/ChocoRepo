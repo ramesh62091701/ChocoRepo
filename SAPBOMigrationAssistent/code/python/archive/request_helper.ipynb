{
 "cells": [
  {
   "cell_type": "code",
   "execution_count": 1,
   "id": "ad975f54",
   "metadata": {},
   "outputs": [
    {
     "name": "stdout",
     "output_type": "stream",
     "text": [
      "{\"logonToken\":\"BG4PHS025PMSTesting.SONATA.LOCAL:6400@{3&2=7110,U3&2v=BG4PHS025PMSTesting.SONATA.LOCAL:6400,UP&66=40,U3&68=secEnterprise:Administrator,UP&S9=12,U3&qe=100,U3&vz=7tLq1V.EZcieXYnEYYO_0.2HQeMMnWrhl2BmlOiBZpZs.T8ityxKxXpxcm_lwbii,UP}\"}\n"
     ]
    }
   ],
   "source": [
    "import requests\n",
    "import json\n",
    "\n",
    "url = \"http://172.29.67.6:6405/biprws/logon/long\"\n",
    "\n",
    "payload = json.dumps({\n",
    "  \"password\": \"Admin@123\",\n",
    "  \"clientType\": \"\",\n",
    "  \"auth\": \"secEnterprise\",\n",
    "  \"userName\": \"Administrator\"\n",
    "})\n",
    "headers = {\n",
    "  'Content-Type': 'application/json',\n",
    "  'Accept': 'application/json'\n",
    "}\n",
    "\n",
    "response = requests.request(\"POST\", url, headers=headers, data=payload)\n",
    "\n",
    "print(response.text)\n"
   ]
  },
  {
   "cell_type": "code",
   "execution_count": null,
   "id": "123ff4b4",
   "metadata": {},
   "outputs": [],
   "source": [
    "def print_object_values(obj, level=0, max_depth=1):\n",
    "    if level >= max_depth:\n",
    "        return\n",
    "\n",
    "    for attribute_name in dir(obj):\n",
    "        if not attribute_name.startswith(\"__\"):\n",
    "            attribute_value = getattr(obj, attribute_name)\n",
    "            \n",
    "            if isinstance(attribute_value, str):\n",
    "                print(\"  \" * level + f\"{attribute_name}: {attribute_value}\")\n",
    "            elif isinstance(attribute_value, object):\n",
    "                print(\"  \" * level + f\"{attribute_name}:\")\n",
    "                print_object_values(attribute_value, level + 1, max_depth)"
   ]
  }
 ],
 "metadata": {
  "kernelspec": {
   "display_name": "Python 3 (ipykernel)",
   "language": "python",
   "name": "python3"
  },
  "language_info": {
   "codemirror_mode": {
    "name": "ipython",
    "version": 3
   },
   "file_extension": ".py",
   "mimetype": "text/x-python",
   "name": "python",
   "nbconvert_exporter": "python",
   "pygments_lexer": "ipython3",
   "version": "3.11.4"
  }
 },
 "nbformat": 4,
 "nbformat_minor": 5
}
