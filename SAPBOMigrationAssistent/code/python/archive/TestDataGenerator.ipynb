{
 "cells": [
  {
   "cell_type": "code",
   "execution_count": 1,
   "id": "1849fde3",
   "metadata": {},
   "outputs": [],
   "source": [
    "import pandas as pd\n",
    "import random\n",
    "import string"
   ]
  },
  {
   "cell_type": "code",
   "execution_count": 2,
   "id": "02d2112a",
   "metadata": {},
   "outputs": [],
   "source": [
    "# Set the random seed for reproducibility\n",
    "random.seed(42)"
   ]
  },
  {
   "cell_type": "code",
   "execution_count": 3,
   "id": "f589d3e6",
   "metadata": {},
   "outputs": [],
   "source": [
    "# Generate random data for testing\n",
    "data = []\n",
    "for doc_id in range(1, 101):\n",
    "    num_tables = random.randint(1, 5)\n",
    "    tables = ';'.join([''.join(random.choices(string.ascii_uppercase, k=5)) for _ in range(num_tables)])\n",
    "    \n",
    "    num_columns = random.randint(1, 10)\n",
    "    columns = ';'.join([''.join(random.choices(string.ascii_lowercase, k=5)) for _ in range(num_columns)])\n",
    "    \n",
    "    data.append((doc_id, tables, columns))"
   ]
  },
  {
   "cell_type": "code",
   "execution_count": 4,
   "id": "559c748b",
   "metadata": {},
   "outputs": [],
   "source": [
    "# Create a DataFrame\n",
    "df = pd.DataFrame(data, columns=['DocId', 'TableList', 'ColumnList'])"
   ]
  },
  {
   "cell_type": "code",
   "execution_count": 5,
   "id": "0e0051f4",
   "metadata": {},
   "outputs": [
    {
     "name": "stdout",
     "output_type": "stream",
     "text": [
      "Test data written to test_data.csv\n"
     ]
    }
   ],
   "source": [
    "# Write the DataFrame to a CSV file\n",
    "csv_file_path = 'test_data.csv'\n",
    "df.to_csv(csv_file_path, index=False)\n",
    "print(f\"Test data written to {csv_file_path}\")"
   ]
  }
 ],
 "metadata": {
  "kernelspec": {
   "display_name": "Python 3 (ipykernel)",
   "language": "python",
   "name": "python3"
  },
  "language_info": {
   "codemirror_mode": {
    "name": "ipython",
    "version": 3
   },
   "file_extension": ".py",
   "mimetype": "text/x-python",
   "name": "python",
   "nbconvert_exporter": "python",
   "pygments_lexer": "ipython3",
   "version": "3.11.4"
  }
 },
 "nbformat": 4,
 "nbformat_minor": 5
}
