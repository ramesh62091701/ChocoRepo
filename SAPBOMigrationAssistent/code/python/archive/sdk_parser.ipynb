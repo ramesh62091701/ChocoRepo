{
 "cells": [
  {
   "cell_type": "code",
   "execution_count": 81,
   "id": "9e01dcf1",
   "metadata": {},
   "outputs": [],
   "source": [
    "import requests\n",
    "from lxml import etree\n",
    "import json"
   ]
  },
  {
   "cell_type": "code",
   "execution_count": 84,
   "id": "9aa6ff59",
   "metadata": {},
   "outputs": [],
   "source": [
    "class BOESDKParser():\n",
    "\n",
    "    def __init__(self, protocol='http', host='localhost', port='8080', content_type='application/xml'):\n",
    "        base_url = protocol + '://' + host + ':' + port\n",
    "        self.bip_url = base_url + '/biprws'\n",
    "        self.webi_url = self.bip_url + '/raylight/v1'\n",
    "        self.sl_url = self.bip_url + '/sl/v1'\n",
    "        self.headers = {\n",
    "            'accept' : content_type\n",
    "            }\n",
    "      \n",
    "    def _get_auth_info(self):\n",
    "        return requests.get(self.bip_url + '/logon/long',\n",
    "                            headers=self.headers)\n",
    "\n",
    "    def _send_auth_info(self, username, password):\n",
    "        '''Helper function to retrieve a log in token'''\n",
    "        auth_template = self._get_auth_info().text\n",
    "        #print(auth_template)\n",
    "        root = etree.fromstring(auth_template)\n",
    "        root[3].text = username\n",
    "        root[0].text = password\n",
    "\n",
    "        print(etree.tostring(root))\n",
    "        print(self.bip_url + '/logon/long')\n",
    "        return requests.post(self.bip_url + '/logon/long',headers=self.headers, data=etree.tostring(root))       \n",
    "    \n",
    "    def set_logon_token(self, username, password):\n",
    "        resp = self._send_auth_info(username, password)\n",
    "        print(str(resp.text))\n",
    "        \n",
    "        if resp.status_code == 200:\n",
    "            root = etree.fromstring(resp.text)\n",
    "            \n",
    "            # Set logon token in headers\n",
    "            # self.headers['X-SAP-LogonToken'] = root[0].text\n",
    "        else:\n",
    "            \n",
    "            # Crude exception handling\n",
    "            raise Exception(\"Could not log on and set the logon token!\")\n",
    "            \n",
    "    def get_universes(self):\n",
    "        resp = requests.get(self.webi_url + '/universes', headers=self.headers)\n",
    "        \n",
    "        if resp.status_code == 200:\n",
    "            root = etree.fromstring(resp.text)\n",
    "            # Iterate over the children elements and convert them into a dict\n",
    "            # of dicts\n",
    "            univs = dict()\n",
    "            for index, univ in enumerate(root):\n",
    "                univs[index] = dict()\n",
    "                for child in univ:\n",
    "                    univs[index][child.tag] = child.text\n",
    "\n",
    "            return univs\n",
    "        else:\n",
    "            # Crude Exception handling\n",
    "            raise Exception(('Could not retrieve universes - have you set a '\n",
    "                             'valid logon token?'))"
   ]
  },
  {
   "cell_type": "code",
   "execution_count": 85,
   "id": "87104cf4",
   "metadata": {},
   "outputs": [
    {
     "name": "stdout",
     "output_type": "stream",
     "text": [
      "b'<attrs xmlns=\"http://www.sap.com/rws/bip\"><attr name=\"password\" type=\"string\">Admin@123</attr><attr name=\"clientType\" type=\"string\"/><attr name=\"auth\" type=\"string\" possibilities=\"secEnterprise,secLDAP,secWinAD,secSAPR3\">secEnterprise</attr><attr name=\"userName\" type=\"string\">Administrator</attr></attrs>'\n",
      "http://172.29.67.6:6405/biprws/logon/long\n",
      "\n"
     ]
    },
    {
     "ename": "Exception",
     "evalue": "Could not log on and set the logon token!",
     "output_type": "error",
     "traceback": [
      "\u001b[1;31m---------------------------------------------------------------------------\u001b[0m",
      "\u001b[1;31mException\u001b[0m                                 Traceback (most recent call last)",
      "Cell \u001b[1;32mIn[85], line 2\u001b[0m\n\u001b[0;32m      1\u001b[0m parser \u001b[38;5;241m=\u001b[39m BOESDKParser(\u001b[38;5;124m\"\u001b[39m\u001b[38;5;124mhttp\u001b[39m\u001b[38;5;124m\"\u001b[39m,\u001b[38;5;124m\"\u001b[39m\u001b[38;5;124m172.29.67.6\u001b[39m\u001b[38;5;124m\"\u001b[39m,\u001b[38;5;124m\"\u001b[39m\u001b[38;5;124m6405\u001b[39m\u001b[38;5;124m\"\u001b[39m, \u001b[38;5;124m\"\u001b[39m\u001b[38;5;124mapplication/xml\u001b[39m\u001b[38;5;124m\"\u001b[39m)\n\u001b[1;32m----> 2\u001b[0m parser\u001b[38;5;241m.\u001b[39mset_logon_token(\u001b[38;5;124m\"\u001b[39m\u001b[38;5;124mAdministrator\u001b[39m\u001b[38;5;124m\"\u001b[39m, \u001b[38;5;124m\"\u001b[39m\u001b[38;5;124mAdmin@123\u001b[39m\u001b[38;5;124m\"\u001b[39m)\n",
      "Cell \u001b[1;32mIn[84], line 40\u001b[0m, in \u001b[0;36mBOESDKParser.set_logon_token\u001b[1;34m(self, username, password)\u001b[0m\n\u001b[0;32m     33\u001b[0m     root \u001b[38;5;241m=\u001b[39m etree\u001b[38;5;241m.\u001b[39mfromstring(resp\u001b[38;5;241m.\u001b[39mtext)\n\u001b[0;32m     35\u001b[0m     \u001b[38;5;66;03m# Set logon token in headers\u001b[39;00m\n\u001b[0;32m     36\u001b[0m     \u001b[38;5;66;03m# self.headers['X-SAP-LogonToken'] = root[0].text\u001b[39;00m\n\u001b[0;32m     37\u001b[0m \u001b[38;5;28;01melse\u001b[39;00m:\n\u001b[0;32m     38\u001b[0m     \n\u001b[0;32m     39\u001b[0m     \u001b[38;5;66;03m# Crude exception handling\u001b[39;00m\n\u001b[1;32m---> 40\u001b[0m     \u001b[38;5;28;01mraise\u001b[39;00m \u001b[38;5;167;01mException\u001b[39;00m(\u001b[38;5;124m\"\u001b[39m\u001b[38;5;124mCould not log on and set the logon token!\u001b[39m\u001b[38;5;124m\"\u001b[39m)\n",
      "\u001b[1;31mException\u001b[0m: Could not log on and set the logon token!"
     ]
    }
   ],
   "source": [
    "parser = BOESDKParser(\"http\",\"172.29.67.6\",\"6405\", \"application/xml\")\n",
    "parser.set_logon_token(\"Administrator\", \"Admin@123\")"
   ]
  },
  {
   "cell_type": "code",
   "execution_count": 80,
   "id": "fcd58e94",
   "metadata": {},
   "outputs": [
    {
     "name": "stdout",
     "output_type": "stream",
     "text": [
      "<attrs xmlns=\"http://www.sap.com/rws/bip\"><attr name=\"password\" type=\"string\"></attr><attr name=\"clientType\" type=\"string\"></attr><attr name=\"auth\" type=\"string\" possibilities=\"secEnterprise,secLDAP,secWinAD,secSAPR3\">secEnterprise</attr><attr name=\"userName\" type=\"string\"></attr></attrs>\n",
      "b'<attrs xmlns=\"http://www.sap.com/rws/bip\"><attr name=\"password\" type=\"string\">Admin@123</attr><attr name=\"clientType\" type=\"string\"/><attr name=\"auth\" type=\"string\" possibilities=\"secEnterprise,secLDAP,secWinAD,secSAPR3\">secEnterprise</attr><attr name=\"userName\" type=\"string\">Administrator</attr></attrs>'\n",
      "http://172.29.67.6:6405/biprws/logon/long\n",
      "\n"
     ]
    },
    {
     "ename": "Exception",
     "evalue": "Could not log on and set the logon token!",
     "output_type": "error",
     "traceback": [
      "\u001b[1;31m---------------------------------------------------------------------------\u001b[0m",
      "\u001b[1;31mException\u001b[0m                                 Traceback (most recent call last)",
      "Cell \u001b[1;32mIn[80], line 1\u001b[0m\n\u001b[1;32m----> 1\u001b[0m parser\u001b[38;5;241m.\u001b[39mset_logon_token(\u001b[38;5;124m\"\u001b[39m\u001b[38;5;124mAdministrator\u001b[39m\u001b[38;5;124m\"\u001b[39m, \u001b[38;5;124m\"\u001b[39m\u001b[38;5;124mAdmin@123\u001b[39m\u001b[38;5;124m\"\u001b[39m)\n",
      "Cell \u001b[1;32mIn[78], line 44\u001b[0m, in \u001b[0;36mBOESDKParser.set_logon_token\u001b[1;34m(self, username, password)\u001b[0m\n\u001b[0;32m     37\u001b[0m     root \u001b[38;5;241m=\u001b[39m etree\u001b[38;5;241m.\u001b[39mfromstring(resp\u001b[38;5;241m.\u001b[39mtext)\n\u001b[0;32m     39\u001b[0m     \u001b[38;5;66;03m# Set logon token in headers\u001b[39;00m\n\u001b[0;32m     40\u001b[0m     \u001b[38;5;66;03m# self.headers['X-SAP-LogonToken'] = root[0].text\u001b[39;00m\n\u001b[0;32m     41\u001b[0m \u001b[38;5;28;01melse\u001b[39;00m:\n\u001b[0;32m     42\u001b[0m     \n\u001b[0;32m     43\u001b[0m     \u001b[38;5;66;03m# Crude exception handling\u001b[39;00m\n\u001b[1;32m---> 44\u001b[0m     \u001b[38;5;28;01mraise\u001b[39;00m \u001b[38;5;167;01mException\u001b[39;00m(\u001b[38;5;124m\"\u001b[39m\u001b[38;5;124mCould not log on and set the logon token!\u001b[39m\u001b[38;5;124m\"\u001b[39m)\n",
      "\u001b[1;31mException\u001b[0m: Could not log on and set the logon token!"
     ]
    }
   ],
   "source": []
  },
  {
   "cell_type": "code",
   "execution_count": null,
   "id": "07d73ada",
   "metadata": {},
   "outputs": [],
   "source": [
    "univ = parser.get_universe()"
   ]
  },
  {
   "cell_type": "code",
   "execution_count": null,
   "id": "7e1551ad",
   "metadata": {},
   "outputs": [],
   "source": [
    "print(univ)"
   ]
  },
  {
   "cell_type": "code",
   "execution_count": null,
   "id": "6bd4d248",
   "metadata": {},
   "outputs": [],
   "source": []
  },
  {
   "cell_type": "code",
   "execution_count": null,
   "id": "c33b11e7",
   "metadata": {},
   "outputs": [],
   "source": []
  }
 ],
 "metadata": {
  "kernelspec": {
   "display_name": "Python 3 (ipykernel)",
   "language": "python",
   "name": "python3"
  },
  "language_info": {
   "codemirror_mode": {
    "name": "ipython",
    "version": 3
   },
   "file_extension": ".py",
   "mimetype": "text/x-python",
   "name": "python",
   "nbconvert_exporter": "python",
   "pygments_lexer": "ipython3",
   "version": "3.11.4"
  }
 },
 "nbformat": 4,
 "nbformat_minor": 5
}
