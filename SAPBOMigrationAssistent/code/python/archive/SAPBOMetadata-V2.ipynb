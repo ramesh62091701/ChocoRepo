{
 "cells": [
  {
   "cell_type": "code",
   "execution_count": 2,
   "id": "490f9bf2",
   "metadata": {},
   "outputs": [],
   "source": [
    "import requests\n",
    "import pandas as pdimport"
   ]
  },
  {
   "cell_type": "code",
   "execution_count": 3,
   "id": "6acab964",
   "metadata": {},
   "outputs": [],
   "source": [
    "# Replace with your Web Intelligence REST API base URL\n",
    "base_url = \"http://172.29.67.6:6405/biprws/raylight/v1/documents\""
   ]
  },
  {
   "cell_type": "code",
   "execution_count": 4,
   "id": "564e8e56",
   "metadata": {},
   "outputs": [],
   "source": [
    "# Replace with your authentication details\n",
    "username = \"Administrator\"\n",
    "password = \"Admin@123\""
   ]
  },
  {
   "cell_type": "code",
   "execution_count": 5,
   "id": "034fd7e5",
   "metadata": {},
   "outputs": [],
   "source": [
    "# Replace with the Web Intelligence document ID (CUID or ID)\n",
    "document_id = \"YourDocumentCUID\""
   ]
  },
  {
   "cell_type": "code",
   "execution_count": 6,
   "id": "9451ba1b",
   "metadata": {},
   "outputs": [],
   "source": [
    "# Construct the full URL\n",
    "#document_url = f\"{base_url}/{document_id}\"\n",
    "document_url = f\"{base_url}\""
   ]
  },
  {
   "cell_type": "code",
   "execution_count": 7,
   "id": "94904ec2",
   "metadata": {},
   "outputs": [],
   "source": [
    "# Set up authentication and headers\n",
    "auth = (username, password)\n",
    "headers = {\"Accept\": \"application/json\"}"
   ]
  },
  {
   "cell_type": "code",
   "execution_count": 8,
   "id": "852601ec",
   "metadata": {},
   "outputs": [],
   "source": [
    "# Send GET request to retrieve document metadata\n",
    "response = requests.get(document_url, auth=auth, headers=headers)"
   ]
  },
  {
   "cell_type": "code",
   "execution_count": 9,
   "id": "21cf1024",
   "metadata": {},
   "outputs": [
    {
     "name": "stdout",
     "output_type": "stream",
     "text": [
      "Error: 401 - {\"error_code\":\"WSR 00001\",\"message\":\"No session found in HTTP header X-SAP-LogonToken\"}\n"
     ]
    }
   ],
   "source": [
    "# Check if the request was successful\n",
    "if response.status_code == 200:\n",
    "    document_metadata = response.json()\n",
    "    print(\"Document Metadata:\")\n",
    "    print(document_metadata)\n",
    "else:\n",
    "    print(f\"Error: {response.status_code} - {response.text}\")"
   ]
  },
  {
   "cell_type": "code",
   "execution_count": null,
   "id": "40b51ccc",
   "metadata": {},
   "outputs": [],
   "source": []
  },
  {
   "cell_type": "code",
   "execution_count": null,
   "id": "1b62d2b3",
   "metadata": {},
   "outputs": [],
   "source": []
  },
  {
   "cell_type": "code",
   "execution_count": null,
   "id": "e2023fc8",
   "metadata": {},
   "outputs": [],
   "source": []
  }
 ],
 "metadata": {
  "kernelspec": {
   "display_name": "Python 3 (ipykernel)",
   "language": "python",
   "name": "python3"
  },
  "language_info": {
   "codemirror_mode": {
    "name": "ipython",
    "version": 3
   },
   "file_extension": ".py",
   "mimetype": "text/x-python",
   "name": "python",
   "nbconvert_exporter": "python",
   "pygments_lexer": "ipython3",
   "version": "3.11.4"
  }
 },
 "nbformat": 4,
 "nbformat_minor": 5
}
