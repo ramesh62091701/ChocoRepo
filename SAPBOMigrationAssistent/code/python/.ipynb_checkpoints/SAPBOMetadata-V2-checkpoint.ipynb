{
 "cells": [
  {
   "cell_type": "code",
   "execution_count": 1,
   "id": "490f9bf2",
   "metadata": {},
   "outputs": [],
   "source": [
    "import requests\n",
    "import pandas as pd"
   ]
  },
  {
   "cell_type": "code",
   "execution_count": 29,
   "id": "6acab964",
   "metadata": {},
   "outputs": [],
   "source": [
    "# Replace with your Business Objects server URL, credentials, and Universe query\n",
    "bo_server_url = \"http://172.29.67.6:6405\""
   ]
  },
  {
   "cell_type": "code",
   "execution_count": 30,
   "id": "be573b3c",
   "metadata": {},
   "outputs": [],
   "source": [
    "username = \"Administrator\"\n",
    "password = \"Admin@123\"\n",
    "universe_query = \"SELECT CustomerID, CustomerName, City FROM Customers\""
   ]
  },
  {
   "cell_type": "code",
   "execution_count": 35,
   "id": "bea7cb4b",
   "metadata": {},
   "outputs": [
    {
     "name": "stdout",
     "output_type": "stream",
     "text": [
      "http://172.29.67.6:6405/biprws/v1/logon/long\n",
      "{'Content-Type': 'application/xml'}\n",
      "<attrs xmlns=\"http://www.sap.com/rws/bip\">\n",
      "   <attr name=\"userName\" type=\"string\">Administrator</attr>\n",
      "   <attr name=\"password\" type=\"string\">Admin@123</attr>\n",
      "   <attr name=\"auth\" type=\"string\">secEnterprise</attr>\n",
      "</attrs>\n"
     ]
    }
   ],
   "source": [
    "# Authenticate with the server and get the token\n",
    "auth_url = f\"{bo_server_url}/biprws/v1/logon/long\"\n",
    "auth_headers = {\"Content-Type\": \"application/xml\"}\n",
    "\n",
    "auth_data = f\"\"\"<attrs xmlns=\"http://www.sap.com/rws/bip\">\n",
    "   <attr name=\"userName\" type=\"string\">{username}</attr>\n",
    "   <attr name=\"password\" type=\"string\">{password}</attr>\n",
    "   <attr name=\"auth\" type=\"string\">secEnterprise</attr>\n",
    "</attrs>\"\"\"\n",
    "print(auth_url)\n",
    "print(auth_headers)\n",
    "print(auth_data)"
   ]
  },
  {
   "cell_type": "code",
   "execution_count": 36,
   "id": "544b0bd1",
   "metadata": {},
   "outputs": [],
   "source": [
    "response = requests.post(auth_url, headers=auth_headers, data=auth_data)"
   ]
  },
  {
   "cell_type": "code",
   "execution_count": 39,
   "id": "ad3807df",
   "metadata": {},
   "outputs": [
    {
     "name": "stdout",
     "output_type": "stream",
     "text": [
      "<?xml version=\"1.0\" encoding=\"UTF-8\" standalone=\"no\"?>\r\n",
      "<error>\r\n",
      "    <error_code>RWS 000079</error_code>\r\n",
      "    <message>Enter a valid input (RWS 000079)</message>\r\n",
      "</error>\r\n",
      "\n"
     ]
    }
   ],
   "source": [
    "print(response.text)"
   ]
  },
  {
   "cell_type": "code",
   "execution_count": 6,
   "id": "ee9e35ee",
   "metadata": {},
   "outputs": [
    {
     "name": "stdout",
     "output_type": "stream",
     "text": [
      "<?xml version=\"1.0\" encoding=\"UTF-8\" standalone=\"no\"?>\r\n",
      "<error>\r\n",
      "    <error_code>RWS 00005</error_code>\r\n",
      "    <message>Not Found (RWS 00005)</message>\r\n",
      "</error>\r\n",
      "\n"
     ]
    }
   ],
   "source": [
    "token = response.text\n",
    "print(token)"
   ]
  },
  {
   "cell_type": "code",
   "execution_count": null,
   "id": "8e4284b3",
   "metadata": {},
   "outputs": [],
   "source": [
    "# Execute the Universe query and get the data as CSV\n",
    "query_url = f\"{bo_server_url}/biprws/raylight/v1/documents\"\n",
    "query_headers = {\"Content-Type\": \"application/xml\", \"X-SAP-LogonToken\": token}\n",
    "query_data = f\"\"\"<document xmlns=\"http://www.sap.com/rws/bip\">\n",
    "  <docType>Webi</docType>\n",
    "   <content>\n",
    "      <dataSource>\n",
    "          <universe>{universe_query}</universe>\n",
    "      </dataSource>\n",
    "   </content>\n",
    "  <outputFormat>CSV</outputFormat>\n",
    "</document>\"\"\""
   ]
  },
  {
   "cell_type": "code",
   "execution_count": null,
   "id": "0b92d6e1",
   "metadata": {},
   "outputs": [],
   "source": [
    "response = requests.post(query_url, headers=query_headers, data=query_data)\n",
    "csv_data = response.text"
   ]
  },
  {
   "cell_type": "code",
   "execution_count": null,
   "id": "9713494e",
   "metadata": {},
   "outputs": [],
   "source": [
    "# Save the data as a CSV file\n",
    "with open(\"Customers.csv\", \"w\") as file:\n",
    "    file.write(csv_data)"
   ]
  },
  {
   "cell_type": "code",
   "execution_count": null,
   "id": "abb7f66f",
   "metadata": {},
   "outputs": [],
   "source": []
  }
 ],
 "metadata": {
  "kernelspec": {
   "display_name": "Python 3 (ipykernel)",
   "language": "python",
   "name": "python3"
  },
  "language_info": {
   "codemirror_mode": {
    "name": "ipython",
    "version": 3
   },
   "file_extension": ".py",
   "mimetype": "text/x-python",
   "name": "python",
   "nbconvert_exporter": "python",
   "pygments_lexer": "ipython3",
   "version": "3.11.4"
  }
 },
 "nbformat": 4,
 "nbformat_minor": 5
}
