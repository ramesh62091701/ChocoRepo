{
 "cells": [
  {
   "cell_type": "code",
   "execution_count": 1,
   "id": "eed5106c",
   "metadata": {},
   "outputs": [],
   "source": [
    "import pandas as pd\n",
    "from sklearn.metrics import jaccard_score"
   ]
  },
  {
   "cell_type": "code",
   "execution_count": 2,
   "id": "bb71e7b7",
   "metadata": {},
   "outputs": [],
   "source": [
    "# Load the data from Excel file\n",
    "excel_file_path = 'd:\\downloads\\document-query-plan.csv'\n",
    "# excel_file_path = 'test_data.csv'\n",
    "df = pd.read_csv(excel_file_path)"
   ]
  },
  {
   "cell_type": "code",
   "execution_count": 3,
   "id": "00f0a296",
   "metadata": {},
   "outputs": [
    {
     "name": "stdout",
     "output_type": "stream",
     "text": [
      "   DocId DpId    DpName  DsId  \\\n",
      "0   6814  DP5   Metrics  6816   \n",
      "1   6818  DP3  instance  6816   \n",
      "2   6820  DP3  instance  6816   \n",
      "3   6695  DP0   Query 1  5646   \n",
      "4   5903  DP0   Query 1  5636   \n",
      "5   6817  DP0      User  6816   \n",
      "6   6808  DP0      User  6816   \n",
      "7   6812  DP0      User  6816   \n",
      "8   5905  DP0   Query 1  5636   \n",
      "9   6699  DP0   Query 1  5636   \n",
      "\n",
      "                                           QueryPlan  TableCount  ColumnCount  \\\n",
      "0  {\"queryplan\":{\"@custom\":\"false\",\"@editable\":\"t...           2           13   \n",
      "1  {\"queryplan\":{\"@custom\":\"false\",\"@editable\":\"t...           2            9   \n",
      "2  {\"queryplan\":{\"@custom\":\"false\",\"@editable\":\"t...           2           19   \n",
      "3  {\"queryplan\":{\"@custom\":\"false\",\"@editable\":\"t...           1            4   \n",
      "4  {\"queryplan\":{\"@custom\":\"false\",\"@editable\":\"t...           3            8   \n",
      "5  {\"queryplan\":{\"@custom\":\"false\",\"@editable\":\"t...           1            2   \n",
      "6  {\"queryplan\":{\"@custom\":\"false\",\"@editable\":\"t...           1           12   \n",
      "7  {\"queryplan\":{\"@custom\":\"false\",\"@editable\":\"t...           2            6   \n",
      "8  {\"queryplan\":{\"@custom\":\"false\",\"@editable\":\"t...           3            8   \n",
      "9  {\"queryplan\":{\"@custom\":\"false\",\"@editable\":\"t...           4            5   \n",
      "\n",
      "   Complexity                                          TableList  \\\n",
      "0       False                       Properties;Properties Level1   \n",
      "1       False                       Properties;Properties Level1   \n",
      "2       False                       Properties;Properties Level1   \n",
      "3       False                                               rio;   \n",
      "4        True  Article_Color_Lookup;Article_Lookup_Criteria;S...   \n",
      "5       False                                        Properties;   \n",
      "6       False                                        Properties;   \n",
      "7       False                       Properties;Properties Level1   \n",
      "8        True  Article_Color_Lookup;Article_Lookup_Criteria;S...   \n",
      "9        True  Calendar_year_lookup;Shop_facts;Article_lookup...   \n",
      "\n",
      "                                          ColumnList  \n",
      "0  int(Properties.si_id);Properties.si_name;Prope...  \n",
      "1  int(Properties.si_id);Properties.si_name;int(P...  \n",
      "2  int(Properties.si_id);int(Properties.si_parent...  \n",
      "3                          Country;Sport;Name;Medal;  \n",
      "4  Family_name;Category;Article_id;Article_label;...  \n",
      "5                                     si_id;si_name;  \n",
      "6  si_id;si_name;si_creation_time;datePart(Proper...  \n",
      "7  int(Properties.si_id);Properties.si_name;relat...  \n",
      "8  Family_name;Category;Article_id;Article_label;...  \n",
      "9  Week_id;Article_id;Shop_id;State;City;Category...  \n"
     ]
    }
   ],
   "source": [
    "# print(df['TableList'])\n",
    "print(df)"
   ]
  },
  {
   "cell_type": "code",
   "execution_count": 4,
   "id": "016134e3",
   "metadata": {},
   "outputs": [],
   "source": [
    "# Extract tables and columns from a query plan\n",
    "def extract_tables_and_columns(table, column):\n",
    "    tables = table.split(';')\n",
    "    columns = column.split(';')\n",
    "    \n",
    "    return tables, columns"
   ]
  },
  {
   "cell_type": "code",
   "execution_count": 5,
   "id": "52d00e93",
   "metadata": {},
   "outputs": [],
   "source": [
    "import re"
   ]
  },
  {
   "cell_type": "code",
   "execution_count": 6,
   "id": "669a126f",
   "metadata": {},
   "outputs": [],
   "source": [
    "def jaccard_similarity(set1, set2):\n",
    "    intersection = len(set1.intersection(set2))\n",
    "    union = len(set1.union(set2))\n",
    "    return intersection / union if union != 0 else 0.0"
   ]
  },
  {
   "cell_type": "code",
   "execution_count": 7,
   "id": "865ed078",
   "metadata": {},
   "outputs": [],
   "source": [
    "# Calculate Jaccard similarity between tables and columns of query plans\n",
    "similarity_matrix = []\n",
    "\n",
    "for i, (table1, column1) in enumerate(zip(df['TableList'], df['ColumnList'])):\n",
    "    \n",
    "    table1 = re.sub(r'[^A-Za-z0-9; ]+', '', table1)\n",
    "    column1 = re.sub(r'[^A-Za-z0-9; ]+', '', column1)\n",
    "    \n",
    "    tables1, columns1 = extract_tables_and_columns(table1, column1)\n",
    "    row_similarities = []\n",
    "    \n",
    "    for j, (table2, column2)  in enumerate(zip(df['TableList'], df['ColumnList'])):\n",
    "         \n",
    "        table2 = re.sub(r'[^A-Za-z0-9; ]+', '', table2)\n",
    "        column2 = re.sub(r'[^A-Za-z0-9; ]+', '', column2)\n",
    "    \n",
    "        tables2, columns2 = extract_tables_and_columns(table2, column2)\n",
    "        \n",
    "        tables_similarity = jaccard_similarity(set(tables1), set(tables2))\n",
    "        columns_similarity = jaccard_similarity(set(columns1), set(columns2))\n",
    "        \n",
    "        average_similarity = (tables_similarity + columns_similarity) / 2\n",
    "        row_similarities.append(average_similarity)\n",
    "       \n",
    "    \n",
    "    similarity_matrix.append(row_similarities)"
   ]
  },
  {
   "cell_type": "code",
   "execution_count": 8,
   "id": "2ab7571a",
   "metadata": {},
   "outputs": [
    {
     "name": "stdout",
     "output_type": "stream",
     "text": [
      "[[1.0, 0.6052631578947368, 0.6923076923076923, 0.0, 0.0, 0.16666666666666666, 0.16666666666666666, 0.6785714285714286, 0.0, 0.0], [0.6052631578947368, 1.0, 0.5689655172413793, 0.0, 0.0, 0.16666666666666666, 0.16666666666666666, 0.6666666666666666, 0.0, 0.0], [0.6923076923076923, 0.5689655172413793, 1.0, 0.0, 0.0, 0.16666666666666666, 0.16666666666666666, 0.5576923076923077, 0.0, 0.0], [0.0, 0.0, 0.0, 1.0, 0.0, 0.23809523809523808, 0.19166666666666665, 0.0, 0.0, 0.0], [0.0, 0.0, 0.0, 0.0, 1.0, 0.0, 0.0, 0.0, 1.0, 0.23717948717948717], [0.16666666666666666, 0.16666666666666666, 0.16666666666666666, 0.23809523809523808, 0.0, 1.0, 0.59375, 0.16666666666666666, 0.0, 0.0], [0.16666666666666666, 0.16666666666666666, 0.16666666666666666, 0.19166666666666665, 0.0, 0.59375, 1.0, 0.16666666666666666, 0.0, 0.0], [0.6785714285714286, 0.6666666666666666, 0.5576923076923077, 0.0, 0.0, 0.16666666666666666, 0.16666666666666666, 1.0, 0.0, 0.0], [0.0, 0.0, 0.0, 0.0, 1.0, 0.0, 0.0, 0.0, 1.0, 0.23717948717948717], [0.0, 0.0, 0.0, 0.0, 0.23717948717948717, 0.0, 0.0, 0.0, 0.23717948717948717, 1.0]]\n"
     ]
    }
   ],
   "source": [
    "print(similarity_matrix)"
   ]
  },
  {
   "cell_type": "code",
   "execution_count": 9,
   "id": "f6ddf298",
   "metadata": {},
   "outputs": [],
   "source": [
    "# Display similarity matrix\n",
    "#for i in range(len(df)):\n",
    "    #for j in range(len(df)):\n",
    "        #print(f\"Similarity between Query {i+1} and Query {j+1}: {similarity_matrix[i][j]:.2f}\")"
   ]
  },
  {
   "cell_type": "code",
   "execution_count": 10,
   "id": "0fdb37d8",
   "metadata": {},
   "outputs": [],
   "source": [
    "import numpy as np\n",
    "import matplotlib.pyplot as plt"
   ]
  },
  {
   "cell_type": "code",
   "execution_count": 11,
   "id": "00fb26ed",
   "metadata": {},
   "outputs": [
    {
     "data": {
      "image/png": "[encoded data removed]",
      "text/plain": [
       "<Figure size 800x600 with 2 Axes>"
      ]
     },
     "metadata": {},
     "output_type": "display_data"
    }
   ],
   "source": [
    "# Plotting the heatmap\n",
    "plt.figure(figsize=(8, 6))\n",
    "plt.imshow(similarity_matrix, cmap='viridis', interpolation='nearest')\n",
    "plt.colorbar(label='Reports Similarity')\n",
    "plt.title('Similarity Matrix Heatmap')\n",
    "plt.xlabel('Reports')\n",
    "plt.ylabel('Reports')\n",
    "plt.xticks(range(len(similarity_matrix)), df['DocId'])\n",
    "plt.yticks(range(len(similarity_matrix)),  df['DocId'])\n",
    "plt.show()"
   ]
  }
 ],
 "metadata": {
  "kernelspec": {
   "display_name": "Python 3 (ipykernel)",
   "language": "python",
   "name": "python3"
  },
  "language_info": {
   "codemirror_mode": {
    "name": "ipython",
    "version": 3
   },
   "file_extension": ".py",
   "mimetype": "text/x-python",
   "name": "python",
   "nbconvert_exporter": "python",
   "pygments_lexer": "ipython3",
   "version": "3.11.4"
  }
 },
 "nbformat": 4,
 "nbformat_minor": 5
}
